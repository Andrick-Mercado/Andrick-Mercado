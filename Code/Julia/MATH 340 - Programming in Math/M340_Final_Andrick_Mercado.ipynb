{
 "cells": [
  {
   "cell_type": "markdown",
   "id": "a5d163b3",
   "metadata": {},
   "source": [
    "# Final\n",
    "**Score:**"
   ]
  },
  {
   "cell_type": "markdown",
   "id": "e740a95b",
   "metadata": {},
   "source": [
    "**Problem 1**\n",
    "1. Data types in any programming language, is a way to describe code or assigns attributes data may have, in python some examples are Integers, boolean, strings, dictionaries, list, tuples and range, and many others.\n",
    "2. Data structures are a way to hold multiple objects of the same data types, examples are list, tuple, set, and dictionaries. a list can be created like the following xl = [9, 8, 4, 23] which have methods such as deletion of elements and are mutable, a tuple made like this xt = (9, 8, 4, 23) but is different to a list since its elements cannot be changed however it can have duplicates, a set x = set(['foo', 2]) its items are not indexed and it cannot hold duplicates, a dictionary looks like this dictionaryA[\"Snaggy Mo\"] = {\"age\": 34, \"phone\": 6198623443, \"favCol\": \"purple\"} and can be accesed by the key in this case the name Snaggy Mo, and all of its information can be accesed.\n",
    "3. A while loop, is a form of loop that keeps running the code inside of it if the condition in the parentheses is met and keeps running the code inside until the statement is false. Examples are while \n",
    "```\n",
    "#Example 1\n",
    "while 1<6:\n",
    "    n = 0\n",
    "#Example 2\n",
    "while True:\n",
    "    work()\n",
    "#Example 3\n",
    "while n<6:\n",
    "    work(n)\n",
    "```\n",
    "4. A for loop is somewhat similar to a while loop as it has a statement inside that needs to be met in order for the code to execute, the main difference is that inside of the paretheses a counter needs to be met, as after every run it increments.\n",
    "```\n",
    "#Example 1\n",
    "for x in thisTuple:\n",
    "    doWork()\n",
    "#Example 2\n",
    "for x in \"this string\":\n",
    "    work()\n",
    "#Example 3\n",
    "for x in range(n):\n",
    "    work(n)\n",
    "```\n",
    "5. \n",
    "```\n",
    "def isWhat():\n",
    "    if num % 2 > 0:\n",
    "        print(\"\"is odd\")\n",
    "    else:\n",
    "        print(\"\"is even\")\n",
    "```"
   ]
  },
  {
   "cell_type": "markdown",
   "id": "be2657f2",
   "metadata": {},
   "source": [
    "**Problem 2**\n",
    "1. \n",
    "$$\\int_{-1}^1{\\cos(\\pi x)\\,dx}$$\n",
    "First perform U substitution,\n",
    "$$ u = \\pi x \\quad du = \\frac{1}{\\pi}$$\n",
    "Now we plug in, \n",
    "\\begin{align}\n",
    "\\int_{-1}^1{\\cos(\\pi x)\\,dx} = & \\, \\frac{1}{\\pi} \\int_{-1}^1{\\cos(u)\\,du}\\\\\n",
    " = & \\, \\frac{1}{\\pi} [sin(-\\pi)+sin(\\pi )]\\\\\n",
    " = & \\quad 0 \\\\\n",
    "\\end{align}\n",
    "\n",
    "\n",
    "2. \n",
    "$$\\int_{0}^{1/2}{\\cos^2(\\pi x)\\,dx}$$\n",
    "First perform U substitution,\n",
    "$$ u = \\pi x \\quad du = \\frac{1}{\\pi}$$\n",
    "Now we plug in, \n",
    "$$ \\int_{0}^{1/2}{\\cos^2(\\pi x)\\,dx} = \\frac{1}{\\pi} \\int_{0}^{1/2}{\\cos^2(u) \\,du} $$\n",
    "Here we will use trig identities,\n",
    "$$ \\cos^2(x) = \\frac{1}{2}[1+\\cos(2x)] $$\n",
    "Now we can plug in,\n",
    "\\begin{align}\n",
    "\\frac{1}{\\pi} \\int_{0}^{1/2}{\\cos^2(u) \\,du}  = &\\, \\frac{1}{\\pi} \\int_{0}^{1/2}{\\frac{1}{2}[1+\\cos(2u)] \\,du} \\\\\n",
    "=& \\,  \\frac{1}{2\\pi} \\int_{0}^{1/2}{1+\\cos(2u) \\,du} \\\\\n",
    "=& \\, \\frac{1}{2\\pi} \\left[\\left(\\frac{\\sin(0)}{2}\\right)+\\left(\\frac{\\pi}{2}+\\frac{\\sin(\\pi)}{2}\\right)\\right]  \\\\\n",
    "=& \\, \\frac{1}{4} \\\\\n",
    "\\end{align}\n",
    "\n",
    "\n",
    "3. \n",
    "$$ \\int{\\frac{dx}{1+e^x}} $$\n",
    "Using some manipulation,\n",
    "$$ u = 1+e^x, \\quad du = e^xdx, \\quad dx = \\frac{du}{e^x}  $$\n",
    "Now as we can see, \n",
    "\\begin{align}\n",
    "\\int{\\frac{dx}{1+e^x}}  =&  \\int{\\frac{1+e^x-e^x}{1+e^x}dx}  \\\\\n",
    " =&  \\int{\\frac{1+e^x}{1+e^x}dx} - \\int{\\frac{e^x}{1+e^x}dx}\n",
    "\\end{align}\n",
    "Using u substitution,\n",
    "$$ u = 1+e^x , \\quad du=e^xdx , \\quad dx = \\frac{du}{e^x} $$\n",
    "With this we get,\n",
    "\\begin{align}\n",
    "=& \\int{1dx}- \\int{\\frac{e^x}{u}\\cdot \\frac{du}{e^x}} \\\\\n",
    "=& \\int{1dx}- \\int{\\frac{du}{u}} \\\\\n",
    "=& \\, x - \\ln(u) +c \\\\\n",
    "=& \\, x- \\ln(1+e^x)+c \\\\\n",
    "\\end{align}\n",
    "\n",
    "\n",
    "4. \n",
    "$$ $$\n",
    "\\begin{align}\n",
    "=& \\int{\\frac{dx}{\\sqrt{1+e^{2x}}}} \\\\\n",
    "=& \\int{\\frac{dx}{\\sqrt{e^{2x}(1+e^{-2x})}}} \\\\\n",
    "=&  \\int{\\frac{dx}{e^{2x}\\sqrt{1+(e^{-x})^2}}}  \\\\\n",
    "=& -\\int{\\frac{-e^{-x}}{\\sqrt{1+(e^{-x})^2}}dx}    \\\\\n",
    "\\end{align}\n",
    "Using u substitution,\n",
    "$$ u = e^{-x} $$\n",
    "Now applying,\n",
    "\\begin{align}\n",
    "=& -\\int{\\frac{du}{\\sqrt{1+u^2}}}  \\\\\n",
    "=& -\\ln\\left| \\, u+\\sqrt{1+u^2} \\, \\right|+c\\\\\n",
    "=&  -\\ln\\left| \\, e^{-x}+\\sqrt{1+u^{-2x}} \\, \\right|+c  \\\\\n",
    "\\end{align}\n"
   ]
  },
  {
   "cell_type": "markdown",
   "id": "d94d15c5",
   "metadata": {},
   "source": [
    "**Problem 3**\n",
    "$$ \\Gamma(z) = \\int_0^\\infty{e^{-t}t^{z-1}dt} $$\n",
    "Solving using integration by parts,\n",
    "$$ u = e^{-t}, \\quad du = -e^{-t}, \\quad dv = t^{z-1}, \\quad v = \\frac{1}{z}t^z  $$\n",
    "Applying,\n",
    "$$ \\frac{1}{z}t^ze^{-t} \\bigg|_{0}^{\\infty} +\\frac{1}{z}\\int_0^\\infty{e^{-t}t^zdt} $$\n",
    "Were,\n",
    "$$ \\frac{1}{z}e^{-t}t^z \\bigg|_{0}^{\\infty} = 0$$\n",
    "Hence, \n",
    "\\begin{align}\n",
    "\\Gamma(z) =& \\frac{1}{z}\\int_0^\\infty{e^{-t}t^z dt}\\\\\n",
    "=& \\frac{1}{z} \\Gamma(z+1)\\\\\n",
    "\\end{align}\n",
    "multiply by z to both sides,\n",
    "$$  z\\Gamma(z) = \\Gamma(z+1) $$\n",
    "\n",
    "Finding $\\Gamma(1)$,\n",
    "\\begin{align}\n",
    "\\Gamma(1) =& \\frac{1}{1}\\int_0^\\infty{e^{-t}t^1 dt}\\\\\n",
    "=& \\int_0^\\infty{e^{-t}t\\, dt}\n",
    "\\end{align}\n",
    "Now we use integration by parts,\n",
    "$$  u = t, \\quad du = 1, \\quad dv = e^{-t}, \\quad v = -e^{-t}  $$\n",
    "we get,\n",
    "$$ -te^{-t}-\\int{-e^{-t}dt} $$\n",
    "Now we solve the integral,\n",
    "$$ \\int{-e^{-t}dt} $$\n",
    "We use U substitution,\n",
    "$$ u = -t , \\quad du = -1 $$\n",
    "$$ = \\int{e^u\\, du} = e^u = e^{-t}  $$ \n",
    "plugging back, \n",
    "$$ -te^{-t}-e^{-t} \\bigg|_{0}^{\\infty}  = 1$$\n",
    "\n",
    "Finding $\\Gamma(2)$,\n",
    "$$ \\Gamma(2) = \\frac{1}{2}\\int_0^\\infty{e^{-t}t^2 dt}$$\n",
    "Using integration by parts,\n",
    "$$  u = t^2, \\quad du = 2t, \\quad dv = e^{-t}, \\quad v = -e^{-t}  $$\n",
    "We get,\n",
    "$$ -t^2e^{-t}-\\int{-2te^{-t}dt} $$\n",
    "Now we solve integral,\n",
    "$$ -2\\int{te^{-t}dt} $$\n",
    "Use integration by parts,\n",
    "$$  u = t, \\quad du = 1, \\quad dv = e^{-t}, \\quad v = -e^{-t}  $$\n",
    "becomes,\n",
    "$$-te^{-t}-\\int{-e^{-t}dt}$$\n",
    "solve the integral,\n",
    "$$\\int{-e^{-t}dt} = e^{-t}$$\n",
    "we plug in to original integrals,\n",
    "$$ = -\\frac{e^{-t}(t^2+2t+2)}{2}  \\bigg|_{0}^{\\infty} = 1$$\n",
    "\n",
    "Finding $\\Gamma(3)$,\n",
    "$$ \\Gamma(3) = \\frac{1}{3}\\int_0^\\infty{e^{-t}t^3 dt}$$\n",
    "Using integration by parts,\n",
    "$$  u = t^3, \\quad du = 3t^2, \\quad dv = e^{-t}, \\quad v = -e^{-t}  $$\n",
    "We get,\n",
    "$$ - t^3e^{-t}-\\int{-3t^2e^{-t}dt} $$\n",
    "Now we solve integral,\n",
    "$$ -3\\int{t^2e^{-t}dt} $$\n",
    "Use integration by parts,\n",
    "$$  u = t^2, \\quad du = 2t, \\quad dv = e^{-t}, \\quad v = -e^{-t}  $$\n",
    "becomes,\n",
    "$$-t^2e^{-t}-(-2)\\int{te^{-t}dt}$$\n",
    "Using integration by parts,\n",
    "$$  u = t, \\quad du = 1, \\quad dv = e^{-t}, \\quad v = -e^{-t}  $$\n",
    "becomes,\n",
    "$$-te^{-t}-(-2)\\int{e^{-t}dt}$$\n",
    "solve the integral,\n",
    "$$\\int{-e^{-t}dt} = e^{-t}$$\n",
    "we plug in to original integrals,\n",
    "$$ = -\\frac{e^{-t}(t^3+3t^2+6t+6)}{3}  \\bigg|_{0}^{\\infty} = 2$$"
   ]
  },
  {
   "cell_type": "markdown",
   "id": "e00873fa",
   "metadata": {},
   "source": [
    "**Problem 4**"
   ]
  },
  {
   "cell_type": "code",
   "execution_count": 8,
   "id": "59700a04",
   "metadata": {},
   "outputs": [
    {
     "data": {
      "text/plain": [
       "<Figure size 1080x720 with 0 Axes>"
      ]
     },
     "execution_count": 8,
     "metadata": {},
     "output_type": "execute_result"
    },
    {
     "data": {
      "image/png": "[encoded data removed]",
      "text/plain": [
       "<Figure size 432x288 with 1 Axes>"
      ]
     },
     "metadata": {
      "needs_background": "light"
     },
     "output_type": "display_data"
    },
    {
     "data": {
      "text/plain": [
       "<Figure size 1080x720 with 0 Axes>"
      ]
     },
     "metadata": {},
     "output_type": "display_data"
    }
   ],
   "source": [
    "#get_ipython().run_line_magic('matplotlib', 'inline')\n",
    "import matplotlib.pyplot as plt\n",
    "import numpy as np\n",
    "%matplotlib inline\n",
    "\n",
    "# Plot\n",
    "def f(k,x):\n",
    "  return sum([((2*(-1)**(n+1))/(n*np.pi))*np.sin(n*np.pi*x) for n in range(1,k+1)])\n",
    " \n",
    "n = np.linspace(-1,1,50)\n",
    "y = [f(1,_) for _ in n]\n",
    "\n",
    "plt.plot(n, y,  'o',label = '$f(1,x)$')\n",
    "\n",
    "y = [f(5,_) for _ in n]\n",
    "plt.plot(n, y,  'o',label = '$f(5,x)$')\n",
    "\n",
    "y = [f(10,_) for _ in n]\n",
    "plt.plot(n, y,  'o',label = '$f(10,x)$')\n",
    "\n",
    "y = [f(50,_) for _ in n]\n",
    "plt.plot(n, y,  'o',label = '$f(50,x)$')\n",
    "\n",
    "y = [f(100,_) for _ in n]\n",
    "plt.plot(n, y,  'o',label = '$f(100,x)$')\n",
    "plt.xlabel('$x$')\n",
    "plt.ylabel('$y$')\n",
    "plt.grid(alpha = 0.618)\n",
    "plt.legend(shadow = True, loc = 4)\n",
    "plt.hlines(0, -1,1,color = 'k')\n",
    "plt.vlines(0, -1, 1,color = 'k')\n",
    "plt.figure(figsize=(15,10))"
   ]
  },
  {
   "cell_type": "markdown",
   "id": "ed556a7f",
   "metadata": {},
   "source": [
    "1. Description Of Graph: As the function approaches infinity its shape begins to shrink as its formed by waves that are formed as the function approaches infinity, all the waves are relatively small, and if we look at it from a zoom out view we see it looks like a bunch of capital N's put together."
   ]
  },
  {
   "cell_type": "markdown",
   "id": "a7b63692",
   "metadata": {},
   "source": [
    "**Problem 5**\n",
    "1. Pros of Julia: faster computation times, less libraries to import, can find variables and and or functions from any cell, and has an easy syntax.\n",
    "2. Cons of Julia: Not as popular which means less libraries and if you need help theres not that much help.\n",
    "3. Syntax in both languages are quite similar, the main difference being the need to put end after most statements in julia.\n",
    "4. Personally, after taking this course and experiencing both, I prefer Julia, as I feel its easier to program in, and I really like the syntax, with the only drawback being not enought support and libraries.\n",
    "5. Example of Companies tha hire Julia programmers are: Intel, Disney, Amazon, Capital One, and Google and many more.\n",
    "6. Example of Companies tha hire Python programmers are: Instagram, Spotify, Amazon, and Facebook and many more.\n"
   ]
  }
 ],
 "metadata": {
  "kernelspec": {
   "display_name": "Python 3",
   "language": "python",
   "name": "python3"
  },
  "language_info": {
   "codemirror_mode": {
    "name": "ipython",
    "version": 3
   },
   "file_extension": ".py",
   "mimetype": "text/x-python",
   "name": "python",
   "nbconvert_exporter": "python",
   "pygments_lexer": "ipython3",
   "version": "3.8.5"
  }
 },
 "nbformat": 4,
 "nbformat_minor": 5
}
