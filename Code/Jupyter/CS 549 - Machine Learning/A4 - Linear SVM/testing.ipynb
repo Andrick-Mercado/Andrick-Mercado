{
 "cells": [
  {
   "cell_type": "code",
   "execution_count": 9,
   "id": "7ef06910",
   "metadata": {},
   "outputs": [
    {
     "name": "stdout",
     "output_type": "stream",
     "text": [
      "m:  -0.05890678588065707\n",
      "b:  0.4946177894824294\n"
     ]
    },
    {
     "data": {
      "image/png": "[encoded data removed]",
      "text/plain": [
       "<Figure size 432x288 with 1 Axes>"
      ]
     },
     "metadata": {
      "needs_background": "light"
     },
     "output_type": "display_data"
    }
   ],
   "source": [
    "from sklearn import datasets\n",
    "import numpy as np\n",
    "import matplotlib.pyplot as plt\n",
    "from sklearn.base import BaseEstimator\n",
    "\n",
    "class LinearGDC(BaseEstimator):\n",
    "    def __init__(self, C=1, eta0=1, eta_d=10000, n_epochs=1000, random_state=None):\n",
    "        self.C = C\n",
    "        self.eta0 = eta0\n",
    "        self.n_epochs = n_epochs\n",
    "        self.random_state = random_state\n",
    "        self.eta_d = eta_d\n",
    "        \n",
    "    def eta(self, epoch):\n",
    "        return self.eta0 / (epoch + self.eta_d)\n",
    "    \n",
    "    def fit(self, X, y):\n",
    "        if self.random_state:\n",
    "            np.random.seed(self.random_state)\n",
    "        w = np.random.randint(1,15)\n",
    "        b = np.random.randint(1,15)\n",
    "        #for this \n",
    "        \n",
    "        theta = np.random.randn(2,1)#self.eta_d\n",
    "        learning_rate = self.eta(self.n_epochs)#not sure if one was given so i made one up\n",
    "        m = len(y) #size  of daataset\n",
    "        self.Js = np.zeros(self.n_epochs) # here we will hold all the epochs cost \n",
    "        #we set them to zero initially\n",
    "        \n",
    "        for cur_epoch in range(self.n_epochs):\n",
    "            cost = 0.0\n",
    "            for i in range(m):\n",
    "                rand_ind = np.random.randint(0,m)\n",
    "                x_i = X[rand_ind,:].reshape(1,X.shape[1])\n",
    "                y_i = y[rand_ind].reshape(1,1)\n",
    "                prediction = np.dot(x_i, theta)\n",
    "                \n",
    "                theta = theta - (1/m)*learning_rate*( x_i.T.dot((prediction - y_i)) )\n",
    "                \n",
    "                m_i = len(y_i)\n",
    "                predictions = x_i.dot(theta)\n",
    "                cost += (1/2*m_i) * np.sum(np.square(predictions-y_i))\n",
    "            self.Js[cur_epoch] = cost\n",
    "        print(\"m: \",theta[0][0])\n",
    "        print(\"b: \",theta[1][0])\n",
    "        self.coef_ = theta[0][0]\n",
    "        self.intercept_ = theta[1][0]\n",
    "        return self\n",
    "    \n",
    "    def plot_cost(self):\n",
    "        plt.plot(range(self.n_epochs), self.Js, 'o', label = 'cost function')\n",
    "        plt.xlabel('$Epochs$')\n",
    "        plt.ylabel('$Cost$')\n",
    "        plt.title('Cost per Epoch')\n",
    "        plt.legend()\n",
    "        plt.show()\n",
    "    \n",
    "    # output the distance between X and the boundary\n",
    "    def decisionfunction(self, X):\n",
    "        return X.dot(self.coef_[0]) + self.intercept_[0]\n",
    "    # output the predicted class\n",
    "    def predict(self, X):\n",
    "        return (self.decision_function(X) >= 0).astype(np.float64)\n",
    "    \n",
    "# We will use iris dataset in this example\n",
    "iris = datasets.load_iris()\n",
    "X = iris[\"data\"][:, (2, 3)] # petal length, petal width\n",
    "y = (iris[\"target\"] == 2).astype(np.float64).reshape(-1, 1) # Iris virginica\n",
    "\n",
    "# you can pick another value for C\n",
    "C=0.001\n",
    "svm_clf = LinearGDC(C=C, eta0 = 10, eta_d = 1000, n_epochs=40, random_state=2)\n",
    "svm_clf.fit(X, y)\n",
    "svm_clf.plot_cost()"
   ]
  },
  {
   "cell_type": "code",
   "execution_count": null,
   "id": "e986e8a5",
   "metadata": {},
   "outputs": [],
   "source": []
  }
 ],
 "metadata": {
  "kernelspec": {
   "display_name": "Python 3",
   "language": "python",
   "name": "python3"
  },
  "language_info": {
   "codemirror_mode": {
    "name": "ipython",
    "version": 3
   },
   "file_extension": ".py",
   "mimetype": "text/x-python",
   "name": "python",
   "nbconvert_exporter": "python",
   "pygments_lexer": "ipython3",
   "version": "3.8.5"
  }
 },
 "nbformat": 4,
 "nbformat_minor": 5
}
