{
 "cells": [
  {
   "cell_type": "markdown",
   "metadata": {},
   "source": [
    "# Conditional Probability\n",
    "In this notebook you will use the rules of conditional probability to solve various problems. Please read each statement and answer all questions in the code blocks that contain \"your code here\"."
   ]
  },
  {
   "cell_type": "markdown",
   "metadata": {},
   "source": [
    "### Problem 1"
   ]
  },
  {
   "cell_type": "markdown",
   "metadata": {},
   "source": [
    "The SDSU triathlon team has 12 women and 9 men. The team is\n",
    "going to a race and can only enter 5 participants. What is the probability of\n",
    "randomly selecting a race squad of 5 participants with exactly 3 women? Round your answer to three decimal places. Enter your solution into variable `p1_1`."
   ]
  },
  {
   "cell_type": "code",
   "execution_count": 15,
   "metadata": {},
   "outputs": [],
   "source": [
    "p1_1 = 0\n",
    "# your code here\n",
    "import math\n",
    "from fractions import Fraction\n",
    "from functools import reduce\n",
    "from operator import mul \n",
    "\n",
    "def nCk(n,k): \n",
    "    return int( reduce(mul, (Fraction(n-i, i+1) for i in range(k)), 1) )\n",
    "\n",
    "p1_1 = round( ((nCk(12,3)*nCk(9,2))/nCk(21,5)), 3  )"
   ]
  },
  {
   "cell_type": "code",
   "execution_count": 16,
   "metadata": {},
   "outputs": [
    {
     "name": "stdout",
     "output_type": "stream",
     "text": [
      "I came up with the same answer\n"
     ]
    }
   ],
   "source": [
    "if(hash(round(p1_1,3)) == 896972930584126976):\n",
    "    print(\"I came up with the same answer\")\n",
    "else:\n",
    "    print(\"I cam up with a different answer\")"
   ]
  },
  {
   "cell_type": "markdown",
   "metadata": {},
   "source": [
    "### Problem 2"
   ]
  },
  {
   "cell_type": "markdown",
   "metadata": {},
   "source": [
    "Suppose a particular crime is committed in Jerry’s apartment. We’d like to know\n",
    "whether Newman is guilty of the crime. We are torn as to whether we think he is\n",
    "guilty: we think it’s equally likely that he is guilty or not guilty. Suppose that, in\n",
    "similar situations, we know that if a suspect is guilty, $85\\%$ of the time their finger\n",
    "prints are found at the scene, and, we know that if a suspect is not guilty, $30\\%$ of\n",
    "the time their finger prints are found at the scene."
   ]
  },
  {
   "cell_type": "markdown",
   "metadata": {},
   "source": [
    "**a)** What is the probability that Newman’s finger prints are found at the scene? Round your answer to three decimal places. Enter your solution into variable `p2_1`."
   ]
  },
  {
   "cell_type": "code",
   "execution_count": 19,
   "metadata": {},
   "outputs": [],
   "source": [
    "p2_1 = 0\n",
    "# your code here\n",
    "p_guilty = p_not_guilty = 0.5\n",
    "\n",
    "p_finger_prints_found_guilty =0.85\n",
    "\n",
    "p_finger_prints_not_found_guilty =0.15\n",
    "\n",
    "p_finger_prints_found_not_guilty =0.3\n",
    "\n",
    "p2_1 = p_finger_prints_found_guilty*p_guilty + p_finger_prints_found_not_guilty*p_not_guilty"
   ]
  },
  {
   "cell_type": "code",
   "execution_count": 20,
   "metadata": {},
   "outputs": [
    {
     "name": "stdout",
     "output_type": "stream",
     "text": [
      "I came up with the same answer\n"
     ]
    }
   ],
   "source": [
    "if(hash(round(p2_1,3)) == 1325859730297873920):\n",
    "    print(\"I came up with the same answer\")\n",
    "else:\n",
    "    print(\"I cam up with a different answer\")"
   ]
  },
  {
   "cell_type": "markdown",
   "metadata": {},
   "source": [
    "**b)** If Newman’s finger prints are found at the scene, how likely is it that he is\n",
    "guilty? Round your answer to three decimal places. Enter your solution into variable `p2_2`."
   ]
  },
  {
   "cell_type": "code",
   "execution_count": 23,
   "metadata": {},
   "outputs": [],
   "source": [
    "p2_2 = 0\n",
    "# your code here\n",
    "p2_2 = (p_finger_prints_found_guilty*p_guilty)/p2_1\n",
    "\n"
   ]
  },
  {
   "cell_type": "code",
   "execution_count": 24,
   "metadata": {},
   "outputs": [
    {
     "name": "stdout",
     "output_type": "stream",
     "text": [
      "I came up with the same answer\n"
     ]
    }
   ],
   "source": [
    "if(hash(round(p2_2,3)) == 1704017983808919808):\n",
    "    print(\"I came up with the same answer\")\n",
    "else:\n",
    "    print(\"I cam up with a different answer\")"
   ]
  },
  {
   "cell_type": "markdown",
   "metadata": {},
   "source": [
    "c) If Newman’s finger prints are not found at the scene, how likely is it that he is guilty? Round your answer to three decimal places. Enter your answer into variable p2.3."
   ]
  },
  {
   "cell_type": "code",
   "execution_count": 25,
   "metadata": {},
   "outputs": [],
   "source": [
    "p2_3 = 0\n",
    "# your code here\n",
    "p2_3 = p_finger_prints_not_found_guilty*p_guilty/(1-p2_1)"
   ]
  },
  {
   "cell_type": "code",
   "execution_count": 26,
   "metadata": {},
   "outputs": [
    {
     "name": "stdout",
     "output_type": "stream",
     "text": [
      "I came up with the same answer\n"
     ]
    }
   ],
   "source": [
    "if(hash(round(p2_3,3)) == 405828369621610112):\n",
    "    print(\"I came up with the same answer\")\n",
    "else:\n",
    "    print(\"I cam up with a different answer\")"
   ]
  },
  {
   "cell_type": "markdown",
   "metadata": {},
   "source": [
    "### Problem 3"
   ]
  },
  {
   "cell_type": "markdown",
   "metadata": {},
   "source": [
    "The game of Yahtzee is played with five fair dice. The goal is to roll certain ‘hands’, such as Yahtzee (all five dice showing the same number) or a full house (three of a kind and two of a kind). In the first round of a player’s turn, the player rolls all five dice. Based on the outcome of that roll, the player has a second and third round, where he/she can then choose to re-roll any subset of the dice to get a desired hand."
   ]
  },
  {
   "cell_type": "markdown",
   "metadata": {},
   "source": [
    "**a)** What is the probability of rolling a Yahtzee on the first round? Round your answer to 4 decimal places. Enter your answer into variable `p3_1`."
   ]
  },
  {
   "cell_type": "code",
   "execution_count": 39,
   "metadata": {},
   "outputs": [],
   "source": [
    "p3_1 = 0\n",
    "# your code here\n",
    "cardinality = pow(6,5) \n",
    "p3_1 = round( 6/cardinality, 4)\n"
   ]
  },
  {
   "cell_type": "code",
   "execution_count": 40,
   "metadata": {},
   "outputs": [
    {
     "name": "stdout",
     "output_type": "stream",
     "text": [
      "I came up with the same answer\n"
     ]
    }
   ],
   "source": [
    "if(hash(round(p3_1,4)) == 578305426710794443):\n",
    "    print(\"I came up with the same answer\")\n",
    "else:\n",
    "    print(\"I cam up with a different answer\")"
   ]
  },
  {
   "cell_type": "markdown",
   "metadata": {},
   "source": [
    "b) Suppose that, on the second round, the dice are {2, 3, 4, 6, 6}. You decide to re-roll both sixes in the third round. What is the probability that you roll either a small straight (four dice are in a row) or a large straight (all five dice are in a row)? Round your answer to three decimal places. Enter your solution into variable p3_2."
   ]
  },
  {
   "cell_type": "code",
   "execution_count": 92,
   "metadata": {},
   "outputs": [],
   "source": [
    "p3_2 = 0\n",
    "# your code here\n",
    "\n",
    "p3_2 = round( 5/9, 3)"
   ]
  },
  {
   "cell_type": "code",
   "execution_count": 93,
   "metadata": {},
   "outputs": [
    {
     "name": "stdout",
     "output_type": "stream",
     "text": [
      "I cam up with a different answer\n"
     ]
    }
   ],
   "source": [
    "if(hash(round(p3_2,3)) == 1282048713122813952):\n",
    "    print(\"I came up with the same answer\")\n",
    "else:\n",
    "    print(\"I cam up with a different answer\")"
   ]
  },
  {
   "cell_type": "markdown",
   "metadata": {},
   "source": [
    "c) What is the probability of rolling a small straight on the first round? Round your answer to have three decimal places. Enter your solution into variable p3_3."
   ]
  },
  {
   "cell_type": "code",
   "execution_count": 102,
   "metadata": {},
   "outputs": [],
   "source": [
    "p3_3 = 0\n",
    "# your code here\n",
    " \n",
    "\n",
    "p3_3 = round( ((2*math.factorial(5)) +12*(nCk(5,2)*math.factorial(3)))/cardinality , 3)\n",
    "\n"
   ]
  },
  {
   "cell_type": "code",
   "execution_count": 103,
   "metadata": {},
   "outputs": [
    {
     "name": "stdout",
     "output_type": "stream",
     "text": [
      "I came up with the same answer\n"
     ]
    }
   ],
   "source": [
    "if(hash(round(p3_3,3)) == 283618690133284352):\n",
    "    print(\"I came up with the same answer\")\n",
    "else:\n",
    "    print(\"I cam up with a different answer\")"
   ]
  },
  {
   "cell_type": "markdown",
   "metadata": {},
   "source": [
    "### Problem 4"
   ]
  },
  {
   "cell_type": "markdown",
   "metadata": {},
   "source": [
    "In 2008, $3\\%$ of adults (age 25 or older) in Nowhere, USA had a PhD, $45\\%$ had at\n",
    "least a bachelor’s degree, and $75\\%$ were employed full-time. Consider randomly\n",
    "selecting an adult from Nowhere, USA  for an interview. Let $A$ denote the event\n",
    "that the individual has a PhD, let $B$ be the event that the individual has a bachelor’s\n",
    "degree, and let $C$ be the event that the individual is employed full-time. Assume that,\n",
    "in order to have a PhD, you must have a bachelor’s degree."
   ]
  },
  {
   "cell_type": "markdown",
   "metadata": {},
   "source": [
    "**a)** Is it possible for $P(A \\cap B) = 0.03$? Enter your answer as a boolean `True` or `False`. Enter your solution into variable `TF_4_1`."
   ]
  },
  {
   "cell_type": "code",
   "execution_count": null,
   "metadata": {},
   "outputs": [],
   "source": [
    "TF_4_1 = None\n",
    "\n",
    "# your code here\n",
    "TF_4_1 = True"
   ]
  },
  {
   "cell_type": "markdown",
   "metadata": {},
   "source": [
    "I kept this one from the oringal doc. I think it is trivial. I don't feel like making a hash that will hide Boolean"
   ]
  },
  {
   "cell_type": "markdown",
   "metadata": {},
   "source": [
    "b) For the remaining questions, let  𝑃(𝐵∪𝐶)=0.75 . Compute the probability that the selected individual has a bachelor’s degree and full-time employ-ment. Round your answer to two decimal points. Enter your solution into variable p4_2."
   ]
  },
  {
   "cell_type": "code",
   "execution_count": 104,
   "metadata": {},
   "outputs": [],
   "source": [
    "p4_2 = 0\n",
    "# your code here\n",
    "#we solve for missing varialbe\n",
    "\n",
    "p4_2 = 0.45+0.7 - 0.7\n"
   ]
  },
  {
   "cell_type": "code",
   "execution_count": 105,
   "metadata": {},
   "outputs": [
    {
     "name": "stdout",
     "output_type": "stream",
     "text": [
      "I came up with the same answer\n"
     ]
    }
   ],
   "source": [
    "if(hash(round(p4_2,2)) == 1037629354146162304):\n",
    "    print(\"I came up with the same answer\")\n",
    "else:\n",
    "    print(\"I cam up with a different answer\")"
   ]
  },
  {
   "cell_type": "markdown",
   "metadata": {},
   "source": [
    "c) What is the probability that the selected individual has a bachelor’s degree given that they are employed full-time? Round your answers to two decimal places. Save your solution as variable p4_3."
   ]
  },
  {
   "cell_type": "code",
   "execution_count": 106,
   "metadata": {},
   "outputs": [],
   "source": [
    "p4_3 = 0\n",
    "# your code here\n",
    "\n",
    "p4_3 = p4_2/0.75\n"
   ]
  },
  {
   "cell_type": "code",
   "execution_count": 107,
   "metadata": {},
   "outputs": [
    {
     "name": "stdout",
     "output_type": "stream",
     "text": [
      "I came up with the same answer\n"
     ]
    }
   ],
   "source": [
    "if(hash(round(p4_3,2)) == 1383505805528216320):\n",
    "    print(\"I came up with the same answer\")\n",
    "else:\n",
    "    print(\"I cam up with a different answer\")"
   ]
  },
  {
   "cell_type": "code",
   "execution_count": null,
   "metadata": {},
   "outputs": [],
   "source": []
  }
 ],
 "metadata": {
  "kernelspec": {
   "display_name": "Python 3",
   "language": "python",
   "name": "python3"
  },
  "language_info": {
   "codemirror_mode": {
    "name": "ipython",
    "version": 3
   },
   "file_extension": ".py",
   "mimetype": "text/x-python",
   "name": "python",
   "nbconvert_exporter": "python",
   "pygments_lexer": "ipython3",
   "version": "3.8.5"
  }
 },
 "nbformat": 4,
 "nbformat_minor": 2
}
