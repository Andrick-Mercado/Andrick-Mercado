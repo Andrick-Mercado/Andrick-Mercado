{
 "cells": [
  {
   "cell_type": "markdown",
   "metadata": {},
   "source": [
    "## Counting Refresher.\n",
    "* This assignment was borrowed from CU Boulder's MOOC on Probability for AI / Data Science\n",
    "* I got a 71% on my first attempt. The math is not difficult. The fun is understanding the problem requirements."
   ]
  },
  {
   "cell_type": "markdown",
   "metadata": {},
   "source": [
    "In this notebook you will apply the axioms of probability and use descriptive statistics to solve various problems. Please read each statement and answer all questions in the code blocks that contain \"your code here\". "
   ]
  },
  {
   "cell_type": "markdown",
   "metadata": {},
   "source": [
    "### Problem 1:\n",
    "Suppose we are interested in the buying habits of shoppers at a particular grocery store with regards to whether they purchase apples, milk, and/or bread. Now suppose 30\\% of all shoppers at this particular grocery store buy apples, 45\\% buy milk, and 40\\% buy a loaf of bread. Let $A$ be the event that a randomly selected shopper buys apples, $B$ be the event that the same randomly selected shopper buys milk, and $C$ the event that they buy bread.  Suppose we also know (from data collected) the following information:\n",
    "\n",
    "\n",
    "*   The probability that the shopper buys apples and milk is 0.20.\n",
    "*   The probability that the shopper buys milk and bread is 0.25.\n",
    "*   The probability that the shopper buys apples and bread is 0.12.\n",
    "*   The probability that the shopper buys all three items is 0.07.\n",
    "\n",
    "Use this information to answer the following questions."
   ]
  },
  {
   "cell_type": "markdown",
   "metadata": {},
   "source": [
    "**a)** For our purposes, we will use a numeric representation for each event. For example, $(010)$ would be an event in the sample space where a zero in the first place represents no apples were bought while a 1 means they were. Similarly,  the second place is the presence of milk and the third place of bread. The example given $(010)$ represents the purchase of milk but not apples or bread.\n",
    "\n",
    "Insert into vector `S` the events that belong to the sample space. Then insert the events from the sample space that would correspond to $A$ occuring into vector `A`. Repeat this with vector `B` for $B$ and vector `C` for $C$.\n",
    "\n",
    "According to set notation, the sample space should look like this: $S=\\{ \\dots \\}$. However, due to data storage syntax in R, we will be storing these events in vectors. For example, for some arbitrary event $W$ would be stored as follows $W=c(010)$. `c()` is a command we can use to construct a vector where commas separate each entry. Complete the code below. Do not worry about the order in which events are placed in vector"
   ]
  },
  {
   "cell_type": "code",
   "execution_count": 1,
   "metadata": {},
   "outputs": [],
   "source": [
    "S = set([\"000\", \"100\", \"010\",\"001\", \"110\", \"011\", \"101\", \"111\"])\n",
    "A = set([\"100\"])\n",
    "B = set([\"010\"])\n",
    "C = set([\"101\"])\n",
    "\n",
    "# Your code here : not sure how to implement it\n"
   ]
  },
  {
   "cell_type": "code",
   "execution_count": 2,
   "metadata": {},
   "outputs": [
    {
     "name": "stdout",
     "output_type": "stream",
     "text": [
      "Not what I was looking for for A\n",
      "Not what I was looking for for B\n",
      "Not what I was looking for for C\n",
      "Not what I was looking for for S\n"
     ]
    }
   ],
   "source": [
    "# Test cells\n",
    "# I just realized a flaw in this grading script.\n",
    "# total_points will keep incrementing so you will get more than 100% if you run any test block other than this one more than once\n",
    "# I would fix it, but this is mostly a participation exercise to get you thinking about counting\n",
    "total_points = 0\n",
    "\n",
    "# If the test script doesn't work, I apologize\n",
    "# I tested by created the set in several different ways and my test cases passed\n",
    "if hash(tuple(A)) == -7577168755473568469:\n",
    "    print(\"A is good\")\n",
    "    total_points += 10\n",
    "else: \n",
    "    print(\"Not what I was looking for for A\")\n",
    "if hash(tuple(B)) == 8857159614544324217:\n",
    "    print(\"B is good\")\n",
    "    total_points += 10\n",
    "else: \n",
    "    print(\"Not what I was looking for for B\")\n",
    "if hash(tuple(C)) == -2787709443455621199:\n",
    "    print(\"C is good\")\n",
    "    total_points += 10\n",
    "else: \n",
    "    print(\"Not what I was looking for for C\")    \n",
    "if hash(tuple(S)) ==-4645947767060772288:\n",
    "    print(\"S is good\")\n",
    "    total_points += 10\n",
    "else: \n",
    "    print(\"Not what I was looking for for S\")\n"
   ]
  },
  {
   "cell_type": "markdown",
   "metadata": {},
   "source": [
    "**b)** Find the probability that the shopper purchases at least one of the three items.\n",
    "\n",
    "Store your answer in a variable `p1_1`."
   ]
  },
  {
   "cell_type": "code",
   "execution_count": 3,
   "metadata": {},
   "outputs": [],
   "source": [
    "p1_1 = 0.0\n",
    "# your code here\n",
    "P_A=0.30\n",
    "P_B=0.45\n",
    "P_C=0.40\n",
    "P_AB=0.20\n",
    "P_BC=0.25\n",
    "P_AC=0.12\n",
    "P_ABC=0.07\n",
    "p1_1 = P_A + P_B + P_C - P_AB - P_BC - P_AC + P_ABC"
   ]
  },
  {
   "cell_type": "code",
   "execution_count": 4,
   "metadata": {},
   "outputs": [
    {
     "name": "stdout",
     "output_type": "stream",
     "text": [
      "p1_1 is good\n"
     ]
    }
   ],
   "source": [
    "if (hash(round(p1_1,2))) == 1498797955988901120:\n",
    "    print(\"p1_1 is good\")\n",
    "    total_points += 10\n",
    "else: \n",
    "    print(\"Not what I was looking for for p1_1\")\n"
   ]
  },
  {
   "cell_type": "markdown",
   "metadata": {},
   "source": [
    "**c)** Find the probability that the shopper purchases none of the three items.\n",
    "\n",
    "Store your answer in a variable `p1_2`."
   ]
  },
  {
   "cell_type": "code",
   "execution_count": 5,
   "metadata": {},
   "outputs": [],
   "source": [
    "p1_2 = 0.0\n",
    "# your code here\n",
    "p1_2 = 1 - p1_1"
   ]
  },
  {
   "cell_type": "code",
   "execution_count": 6,
   "metadata": {},
   "outputs": [
    {
     "name": "stdout",
     "output_type": "stream",
     "text": [
      "p1_2 is good\n"
     ]
    }
   ],
   "source": [
    "if (hash(round(p1_2,2))) == 807045053224792832:\n",
    "    print(\"p1_2 is good\")\n",
    "    total_points += 10\n",
    "else: \n",
    "    print(\"Not what I was looking for for p1_2\")"
   ]
  },
  {
   "cell_type": "markdown",
   "metadata": {},
   "source": [
    "**d)** Find the probability that the shopper buys milk and bread but not apples.\n",
    "\n",
    "Store your answer in a variable `p1_3`."
   ]
  },
  {
   "cell_type": "code",
   "execution_count": 7,
   "metadata": {},
   "outputs": [],
   "source": [
    "p1_3 = 0.0\n",
    "# your code here\n",
    "p1_3 = P_BC - P_ABC\n",
    "\n"
   ]
  },
  {
   "cell_type": "code",
   "execution_count": 8,
   "metadata": {},
   "outputs": [
    {
     "name": "stdout",
     "output_type": "stream",
     "text": [
      "p1_3 is good\n"
     ]
    }
   ],
   "source": [
    "if (hash(round(p1_3,2))) == 415051741658464896:\n",
    "    print(\"p1_3 is good\")\n",
    "    total_points += 10\n",
    "else: \n",
    "    print(\"Not what I was looking for for p1_3\")"
   ]
  },
  {
   "cell_type": "markdown",
   "metadata": {},
   "source": [
    "### Problem 2:\n",
    "\n",
    "A student takes a multiple choice test with $20$ questions. Each question has 5 possible answers, only one of which is correct."
   ]
  },
  {
   "cell_type": "markdown",
   "metadata": {},
   "source": [
    "**a)** How many ways can the test be completed?  (Find the cardinality of the sample space.) Store your answer in `cardinality`"
   ]
  },
  {
   "cell_type": "code",
   "execution_count": 9,
   "metadata": {},
   "outputs": [],
   "source": [
    "cardinality = 0\n",
    "# your code here\n",
    "cardinality  = pow(5,20)"
   ]
  },
  {
   "cell_type": "code",
   "execution_count": 10,
   "metadata": {},
   "outputs": [
    {
     "name": "stdout",
     "output_type": "stream",
     "text": [
      "cardinality is good\n"
     ]
    }
   ],
   "source": [
    "if (hash(round(cardinality,2))) == 95367431640625:\n",
    "    print(\"cardinality is good\")\n",
    "    total_points += 10\n",
    "else: \n",
    "    print(\"Not what I was looking for for cardinality\")"
   ]
  },
  {
   "cell_type": "markdown",
   "metadata": {},
   "source": [
    "b) If a student answers each question at random, what is the probability that they will answer at least  14  questions correctly? Round your answer to seven decimal places. Store your answer in p2_b."
   ]
  },
  {
   "cell_type": "code",
   "execution_count": 11,
   "metadata": {},
   "outputs": [],
   "source": [
    "p2_b = 0\n",
    "# your code here\n",
    "import math\n",
    "from operator import mul    \n",
    "from fractions import Fraction\n",
    "from functools import reduce\n",
    "\n",
    "def nCk(n,k): \n",
    "    return int( reduce(mul, (Fraction(n-i, i+1) for i in range(k)), 1) )\n",
    "\n",
    "def probability_calc(prob, start, end):\n",
    "    return sum( [( nCk(end,k) * pow(prob,k) * pow((1-prob), (end-k)) )for k in range(start,end+1)] )\n",
    "p2_b = round(probability_calc(1/5,14,20), 7)"
   ]
  },
  {
   "cell_type": "code",
   "execution_count": 12,
   "metadata": {},
   "outputs": [
    {
     "name": "stdout",
     "output_type": "stream",
     "text": [
      "p2_b is good\n"
     ]
    }
   ],
   "source": [
    "if (hash(p2_b)) == 1496325126711263880:\n",
    "    print(\"p2_b is good\")\n",
    "    total_points += 10\n",
    "else: \n",
    "    print(\"Not what I was looking for for p2_b\")"
   ]
  },
  {
   "cell_type": "markdown",
   "metadata": {},
   "source": [
    "c) If a student knows the answer to each question with probability  0.9 , what is the chance they will answer at least  14  correctly? Round your answer to four decimal places. Save your answer as p2_c."
   ]
  },
  {
   "cell_type": "code",
   "execution_count": 13,
   "metadata": {},
   "outputs": [],
   "source": [
    "p2_c = 0\n",
    "# your code here\n",
    "p2_c = round(probability_calc(0.9,14,20), 4)"
   ]
  },
  {
   "cell_type": "code",
   "execution_count": 14,
   "metadata": {},
   "outputs": [
    {
     "name": "stdout",
     "output_type": "stream",
     "text": [
      "p2_c is good\n"
     ]
    }
   ],
   "source": [
    "if (hash(p2_c)) == 2300308985991581184:\n",
    "    print(\"p2_c is good\")\n",
    "    total_points += 10\n",
    "else: \n",
    "    print(\"Not what I was looking for for p2_c\")"
   ]
  },
  {
   "cell_type": "markdown",
   "metadata": {},
   "source": [
    "Thought question (Ungraded): If a student understands 90\\% of the material, is a multiple choice test of 20 questions an appropriate means of testing?\n",
    "\n",
    "\n"
   ]
  },
  {
   "cell_type": "markdown",
   "metadata": {},
   "source": [
    "### Problem 3:\n",
    "\n",
    "Suppose there are 20 employees on the day shift, 15 on swing, and 10 on nights. You would like to choose 6 at random for an in-depth interview. Let $A_{1}$ be the event that all 6 are chosen from the day shift, $A_{2}$ be the event that all $6$ are chosen from the swing shift, and $A_{3}$ the event that all 6 are chosen from the night shift."
   ]
  },
  {
   "cell_type": "markdown",
   "metadata": {},
   "source": [
    "a) What is the cardinality of the sample space (the drawing of 6 employees from all shifts)? Assume each employee is unique. Think about what each element, or possible outcome, in the sample space represents."
   ]
  },
  {
   "cell_type": "code",
   "execution_count": 15,
   "metadata": {},
   "outputs": [
    {
     "name": "stdout",
     "output_type": "stream",
     "text": [
      "This value should be correct not sure why not:  8145060\n"
     ]
    }
   ],
   "source": [
    "Size = 0\n",
    "# your code here       \n",
    "Size = nCk(45,6)\n",
    "print(\"This value should be correct not sure why not: \",Size) "
   ]
  },
  {
   "cell_type": "code",
   "execution_count": 16,
   "metadata": {},
   "outputs": [
    {
     "name": "stdout",
     "output_type": "stream",
     "text": [
      "Not what I was looking for for Size\n"
     ]
    }
   ],
   "source": [
    "if (hash(str(Size))) == -2811962898305558370:\n",
    "    print(\"Size is good\")\n",
    "    total_points += 10\n",
    "else: \n",
    "    print(\"Not what I was looking for for Size\")"
   ]
  },
  {
   "cell_type": "markdown",
   "metadata": {},
   "source": [
    "b) Assuming that each employee is chosen with equal probaiblity, what is the probability that all 6 chosen employees work the day shift? Note that the employees are chosen sequentially, not all at once. Round your answer to 5 decimal places. Save your answer as P_AllDay.\n",
    "\n",
    "Thought question (ungraded): If you hired a consultant to do this interview and all 6 employees were chosen from the day shift, what would you be likely to conclude?"
   ]
  },
  {
   "cell_type": "code",
   "execution_count": 17,
   "metadata": {},
   "outputs": [],
   "source": [
    "P_AllDay = 0\n",
    "# your code here\n",
    "P_AllDay =   round( nCk(20,6)/nCk(45,6),5 )\n"
   ]
  },
  {
   "cell_type": "code",
   "execution_count": 18,
   "metadata": {},
   "outputs": [
    {
     "name": "stdout",
     "output_type": "stream",
     "text": [
      "P_AllDay is good\n"
     ]
    }
   ],
   "source": [
    "if (hash(P_AllDay)) == 10975812723857184:\n",
    "    print(\"P_AllDay is good\")\n",
    "    total_points += 10\n",
    "else: \n",
    "    print(\"Not what I was looking for for P_AllDay\")"
   ]
  },
  {
   "cell_type": "markdown",
   "metadata": {},
   "source": [
    "c) What is the probability that all 6 workers are selected from the same shift? Again, assume the employees are selected sequentially and not all at once. Round your answer to four decimal places. Save your answer as P_AllSame."
   ]
  },
  {
   "cell_type": "code",
   "execution_count": 19,
   "metadata": {},
   "outputs": [],
   "source": [
    "P_AllSame = 0\n",
    "# your code here\n",
    "P_AllSame = round( (nCk(20,6)+nCk(15,6)+nCk(10,6))/(nCk(45,6)) ,4 )\n"
   ]
  },
  {
   "cell_type": "code",
   "execution_count": 20,
   "metadata": {},
   "outputs": [
    {
     "name": "stdout",
     "output_type": "stream",
     "text": [
      "P_AllSame is good\n"
     ]
    }
   ],
   "source": [
    "if (hash(P_AllSame)) == 12451552249753948:\n",
    "    print(\"P_AllSame is good\")\n",
    "    total_points += 10\n",
    "else: \n",
    "    print(\"Not what I was looking for for P_AllSame\")"
   ]
  },
  {
   "cell_type": "markdown",
   "metadata": {},
   "source": [
    "Thought question (Ungraded): Let $B_{1}$ be the event that no one from the day shift is selected, $B_{2}$ the event that no one from the swing shift is selected, and $B_{3}$ the event that no one from the night shift is selected. \n",
    "\n",
    "How is $A_{1}^{c}$ defined? Is it related to $B_{1}$ or $B_{1}^{c}$? It's very important to carefully define the events of interest so that you know you are calculating the correct probability."
   ]
  },
  {
   "cell_type": "markdown",
   "metadata": {},
   "source": [
    "**d)** Find the probability that at least one of the shifts will be unrepresented in the sample of $6$ workers. Round your answer to four decimal places. Save your answer as `P_NoneOfOneShift`.\n",
    "\n",
    "**Hint:** We want to solve $P(B_1 \\cup B_2 \\cup B_3)$. To solve this, it may help to make a venn diagram for these events. Make sure you don't overcount the overlapping areas of this venn diagram!"
   ]
  },
  {
   "cell_type": "code",
   "execution_count": 21,
   "metadata": {},
   "outputs": [
    {
     "name": "stdout",
     "output_type": "stream",
     "text": [
      "0.2885\n"
     ]
    }
   ],
   "source": [
    "P_NoneOfOneShift = 0.0\n",
    "# your code here\n",
    "#P_NoneOfOneShift = P(B1 ∪ B2 ∪ B3) = P(B1)+P(B2)+P(B3)−P(B1 ∩ B2)−P(B1 ∩ B3)−P(B3 ∩ B2)+P(B1 ∩ B2 ∩ B3)\n",
    "B1 = nCk(25,6)/nCk(45,6)\n",
    "B2 = nCk(30,6)/nCk(45,6)\n",
    "B3 = nCk(35,6)/nCk(45,6)\n",
    "B1_B2 = nCk(10,6)/nCk(45,6)\n",
    "B1_B3 = nCk(15,6)/nCk(45,6)\n",
    "B2_B3 = nCk(20,6)/nCk(45,6)\n",
    "B1_B2_B3 = 0\n",
    "P_NoneOfOneShift = round((B1 + B2 + B3 - B1_B2 - B1_B3 - B2_B3 + B1_B2_B3 ),4 )\n",
    "print(P_NoneOfOneShift )"
   ]
  },
  {
   "cell_type": "code",
   "execution_count": 22,
   "metadata": {},
   "outputs": [
    {
     "name": "stdout",
     "output_type": "stream",
     "text": [
      "P_NoneOfOneShift is good\n"
     ]
    }
   ],
   "source": [
    "if (hash(P_NoneOfOneShift)) == 665235708158150656:\n",
    "    print(\"P_NoneOfOneShift is good\")\n",
    "    total_points += 10\n",
    "else: \n",
    "    print(\"Not what I was looking for for P_NoneOfOneShift\")"
   ]
  },
  {
   "cell_type": "code",
   "execution_count": 23,
   "metadata": {},
   "outputs": [
    {
     "name": "stdout",
     "output_type": "stream",
     "text": [
      "You might want to clean and run everything again to get this to work right\n",
      "Total points (assuming clean run of tests) 90\n",
      "Score in percent 81.82%\n"
     ]
    }
   ],
   "source": [
    "print(\"You might want to clean and run everything again to get this to work right\")\n",
    "print(f\"Total points (assuming clean run of tests) {total_points}\")\n",
    "print(f\"Score in percent {round(total_points/110*100,2)}%\")\n",
    "\n"
   ]
  },
  {
   "cell_type": "code",
   "execution_count": null,
   "metadata": {},
   "outputs": [],
   "source": []
  }
 ],
 "metadata": {
  "kernelspec": {
   "display_name": "Python 3",
   "language": "python",
   "name": "python3"
  },
  "language_info": {
   "codemirror_mode": {
    "name": "ipython",
    "version": 3
   },
   "file_extension": ".py",
   "mimetype": "text/x-python",
   "name": "python",
   "nbconvert_exporter": "python",
   "pygments_lexer": "ipython3",
   "version": "3.8.5"
  }
 },
 "nbformat": 4,
 "nbformat_minor": 2
}
