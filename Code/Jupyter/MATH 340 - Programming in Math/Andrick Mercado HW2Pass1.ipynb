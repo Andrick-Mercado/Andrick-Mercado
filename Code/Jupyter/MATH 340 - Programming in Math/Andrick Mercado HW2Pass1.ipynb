{
  "nbformat": 4,
  "nbformat_minor": 0,
  "metadata": {
    "colab": {
      "name": "Homework2.ipynb",
      "provenance": [],
      "collapsed_sections": []
    },
    "kernelspec": {
      "name": "python3",
      "display_name": "Python 3"
    }
  },
  "cells": [
    {
      "cell_type": "markdown",
      "metadata": {
        "id": "wxMvox4p2zUp"
      },
      "source": [
        "# Homework 2\r\n",
        "\r\n",
        "> Andrick Mercado\r\n",
        "\r\n",
        "> 2/1/2021\r\n",
        "\r\n",
        "\r\n",
        "---\r\n",
        "\r\n",
        "\r\n"
      ]
    },
    {
      "cell_type": "markdown",
      "metadata": {
        "id": "WGgzJyDsyCet"
      },
      "source": [
        "**Problem 1**\r\n",
        "\r\n",
        "$$ \\int{\\sec^3(x)\\, dx} = \\int{\\sec(x) \\cdot \\sec^2(x)\\, dx } $$\r\n",
        "$$ Let \\,u=\\sec{(x)}, \\, dv=sec^3(x),\\, du = \\sec(x) \\tan(x)\\,dx, v = \\tan(x) $$\r\n",
        "$Now, $\r\n",
        "$$ \\sec(x)tan(x)-\\int{\\tan^2(x)\\sec(x)\\,dx} $$\r\n",
        "$$ \\sec(x)\\tan(x)-\\int{(\\sec^2(x)-1)\\sec(x)\\,dx} $$\r\n",
        "$$ \\sec(x)\\tan(x)-\\int{\\sec^3(x)-\\sec(x)\\,dx} $$\r\n",
        "$$ \\sec(x)\\tan(x)-\\int{\\sec^3(x)\\,dx}+\\int{\\sec(x)\\,dx} $$\r\n",
        "$$ \\int{\\sec^3(x)\\, dx} = \\sec(x)\\tan(x)-\\int{\\sec^3(x)\\,dx}+\\int{\\sec(x)\\,dx}  $$\r\n",
        "$$ \\int{\\sec^3(x)\\, dx} +\\int{\\sec^3(x)\\, dx} = \\sec(x)\\tan(x) + \\int{\\sec(x) \\,dx}  $$\r\n",
        "$$ 2\\int{\\sec^3(x)\\,dx} = \\sec(x)\\tan(x) + \\int{\\sec(x) \\,dx} $$\r\n",
        "$$ \\frac{1}{2}( \\sec x \\tan x +ln|\\sec x+\\tan x|)+ C $$\r\n",
        "$$ $$\r\n",
        "$ Using \\enspace the \\enspace Reciprocal \\enspace and \\enspace Quotient \\enspace identities, $\r\n",
        "\r\n",
        "$$ \\qquad \\sec \\theta = \\frac{1}{\\cos \\theta }, and \\, \\tan \\theta = \\frac{\\sin \\theta }{\\cos \\theta }$$\r\n",
        "$$ $$\r\n",
        "$$We \\enspace get, \\qquad ln|\\sec x+\\tan x| = ln\\left\\lvert \\frac{1}{\\cos x}+ \\frac{\\sin x}{\\cos x}\\right\\rvert = ln\\left\\lvert \\frac{1+\\sin x}{\\cos x}   \\right\\rvert = ln|1+\\sin x|-ln|\\cos x|$$\r\n",
        "$$ $$\r\n",
        "$ With \\enspace this \\enspace we \\enspace say, $\r\n",
        "$$ \\int{\\sec^3(x)\\, dx} = \\tfrac{1}{2} \\sec x \\tan x +\\tfrac{1}{2}ln|1+\\sin x|-\\tfrac{1}{2}ln|\\cos x|+ C  $$\r\n"
      ]
    },
    {
      "cell_type": "markdown",
      "metadata": {
        "id": "_G1O2BcFcin7"
      },
      "source": [
        "**Problem 2**\r\n",
        "$$ $$\r\n",
        "$ \\sum_{n=0}^\\infty3(\\frac{1}{2})^n  = 3\\sum_{n=0}^\\infty(\\frac{1}{2})^n $\r\n",
        "\r\n",
        "Since the ratio is one half, |ratio| < 1 which means it converges were its value is given by, $ \\frac{first \\,term}{1-ratio}$ in which we get $ \\frac{1}{\\frac{1}{2}} = 2$\r\n",
        "$$ $$\r\n",
        "By this we see that $ 3\\sum_{n=0}^\\infty(\\frac{1}{2})^n = 3\\cdot 2 = 6$\r\n"
      ]
    },
    {
      "cell_type": "markdown",
      "metadata": {
        "id": "0zdXhAmxqEob"
      },
      "source": [
        "**Problem 3**\r\n",
        "\r\n",
        "Similar to question 2 we begin by calculating the ratio since |ratio|< 1, we get the series value by $ \\frac{first \\,term}{1-ratio} = \\frac{(\\frac{1}{2})^3}{\\frac{1}{2}} = \\frac{1}{4}$\r\n",
        "\r\n",
        "From this we conclude that,  $3\\sum_{n=3}^\\infty(\\frac{1}{2})^n = 3 \\cdot \\frac{1}{4} = \\frac{3}{4}$ "
      ]
    },
    {
      "cell_type": "markdown",
      "metadata": {
        "id": "Qu_IOXnjsfM2"
      },
      "source": [
        "**Problem 4**\r\n",
        "\r\n",
        "$ \\sum_{n=1}^{100}n \\quad$ using $ \\sum_{i=1}^n i =\\frac{n(n+1)}{2} $, which we get $ \\sum_{n=1}^{100}n = 5050 $\r\n",
        "\r\n",
        "\r\n",
        "\r\n"
      ]
    },
    {
      "cell_type": "code",
      "metadata": {
        "colab": {
          "base_uri": "https://localhost:8080/"
        },
        "id": "Jcb_jOwYxKUk",
        "outputId": "fe216cb4-45b9-41e2-bb36-853b0c91a8c1"
      },
      "source": [
        "sum = 0\r\n",
        "for x in range (101):\r\n",
        "  sum += x\r\n",
        "print(\"The sum using python is \", sum)"
      ],
      "execution_count": null,
      "outputs": [
        {
          "output_type": "stream",
          "text": [
            "The sum using python is  5050\n"
          ],
          "name": "stdout"
        }
      ]
    },
    {
      "cell_type": "markdown",
      "metadata": {
        "id": "r3n-FvW9zF4k"
      },
      "source": [
        "**Problem 5**\r\n"
      ]
    },
    {
      "cell_type": "code",
      "metadata": {
        "colab": {
          "base_uri": "https://localhost:8080/"
        },
        "id": "ameAYozW37T_",
        "outputId": "e395db4d-4f16-424f-b60f-b1421313812d"
      },
      "source": [
        "r1 = bin(42)\r\n",
        "r2 = bin(127)\r\n",
        "print(\"The number 42 to binary is\", r1, \"and 127 is \",r2,\"in binary.\" )\r\n",
        "print(\"With this the addition of both binary numbers equals to \", int(r1, 2) + int(r2, 2) )"
      ],
      "execution_count": null,
      "outputs": [
        {
          "output_type": "stream",
          "text": [
            "The number 42 to binary is 0b101010 and 127 is  0b1111111 in binary.\n",
            "With this the addition of both equals to  169\n"
          ],
          "name": "stdout"
        }
      ]
    },
    {
      "cell_type": "markdown",
      "metadata": {
        "id": "Qh_0AnZS7dhH"
      },
      "source": [
        "**Problem 6**\r\n",
        "\r\n",
        "1. For #a the line of code should store the numbers from 0 to 9\r\n",
        "2. For #b the line of code should store every number in increments of 10 on the range 0 to 99\r\n",
        "3. For #c the line of code should store every number that is one number away from every 5 counting up for instance 6 but not 4,    on the range 0 to 24\r\n",
        "4. For #d the line of code should store every number on range 0 to 49 that is 2 numbers away from 3 when divided by three and 1 number away when divided by 5, for instance possible values are 1, 6, 11, 21 but with %3 == 2 only a few are stored as they need to be one number away from a divisible of 5, and at the same time when divided by 3 have a remainder of two\r\n",
        "\r\n"
      ]
    },
    {
      "cell_type": "code",
      "metadata": {
        "colab": {
          "base_uri": "https://localhost:8080/"
        },
        "id": "bJh9B7UJ-RNV",
        "outputId": "1be0fba4-4999-4b33-d58f-301edc1cda56"
      },
      "source": [
        "numbers = [ x for x in  range(10) ]\r\n",
        "print(\"#a\",numbers)\r\n",
        "numbers = [ x for x in  range(0 ,  100 ,  10) ]\r\n",
        "print(\"#b\",numbers)\r\n",
        "numbers = [ x for x in  range(25) if x%5==1]\r\n",
        "print(\"#c\",numbers)\r\n",
        "numbers = [ x for x in  range(50) if x%5==1 and x%3==2]\r\n",
        "print(\"#d\",numbers)"
      ],
      "execution_count": null,
      "outputs": [
        {
          "output_type": "stream",
          "text": [
            "#a [0, 1, 2, 3, 4, 5, 6, 7, 8, 9]\n",
            "#b [0, 10, 20, 30, 40, 50, 60, 70, 80, 90]\n",
            "#c [1, 6, 11, 16, 21]\n",
            "#d [11, 26, 41]\n"
          ],
          "name": "stdout"
        }
      ]
    },
    {
      "cell_type": "markdown",
      "metadata": {
        "id": "Yy_68l9ECIrA"
      },
      "source": [
        "**Problem 7**\r\n",
        "\r\n",
        "1. A list unlike an array is composed of a flexible size, that does not have to be stated. In order to acess firts object in a list we call the list by its name and index such as array[1] where indexing starts at 0 and not at 1. We can acess the last element in a list by typing its name followed by -1, array[-1].\r\n",
        "Now a list is started with any given name as long as is not taken if not it will overlap and potentially cause errors, example test = [123, \"fdff\", 'eee']. Where it can take any object and take strings with \" or '.\r\n",
        "2. A tuple is the array implementation of python, or atleast very similar in the sense of its size, and how once initiated to a certain size it does not change or accpet new objects, indexed by starting at 0.\r\n",
        "Example is array = (\"111\",'111',111), where it has 3 elemnents indexed 0, 1 ,2 respectively, and if attempted to call array[3] would cause an error as it is not part of the array.\r\n",
        "3. A set is unlike the other two data structures in the sense that they dont have duplicates and its accesing time is constant meaning quick and efficient, however its elemnts are not arranged in any particular order as they are unindexed. Example is thisset = set([\"1\",'a',23]), where it is not indexed as elements in sets implement a hash table which uses linked list hence the reason why index is not accesible.\r\n"
      ]
    },
    {
      "cell_type": "code",
      "metadata": {
        "colab": {
          "base_uri": "https://localhost:8080/"
        },
        "id": "8lXtLawjR4s9",
        "outputId": "20950e75-473a-4aff-fb9d-ab218aae8a65"
      },
      "source": [
        "## Problem 8\r\n",
        "randomList = [12,345,2,6,7896]\r\n",
        "counter = 0\r\n",
        "for x in range(len(randomList)):\r\n",
        "  if randomList[x]%2==0:\r\n",
        "    counter +=1\r\n",
        "    print(randomList[x],\"is even\")\r\n",
        "print(\"Total Number of evens in List:\",counter)"
      ],
      "execution_count": 37,
      "outputs": [
        {
          "output_type": "stream",
          "text": [
            "12 is even\n",
            "2 is even\n",
            "6 is even\n",
            "7896 is even\n",
            "Total Number of evens in List: 4\n"
          ],
          "name": "stdout"
        }
      ]
    },
    {
      "cell_type": "markdown",
      "metadata": {
        "id": "G9a0TlqGT4HG"
      },
      "source": [
        "\r\n",
        "\r\n",
        "*   The way I arrived to my answer was by iterasting through the list and than using modulo to find every number that is divisible by 2 and whos remainder is 0, with time complexity of O(n)\r\n",
        "\r\n"
      ]
    },
    {
      "cell_type": "code",
      "metadata": {
        "colab": {
          "base_uri": "https://localhost:8080/"
        },
        "id": "oZCB1RMWUwV1",
        "outputId": "d4494b2d-97e6-48ba-fd9c-9c5f7a945acd"
      },
      "source": [
        "## Problem 9\r\n",
        "\r\n",
        "vegetables = (\"Artichokes\", 'Asian greens', \"Beans\", 'Beetroot')\r\n",
        "for x in vegetables:\r\n",
        "  print(x)"
      ],
      "execution_count": 40,
      "outputs": [
        {
          "output_type": "stream",
          "text": [
            "Artichokes\n",
            "Asian greens\n",
            "Beans\n",
            "Beetroot\n"
          ],
          "name": "stdout"
        }
      ]
    },
    {
      "cell_type": "code",
      "metadata": {
        "colab": {
          "base_uri": "https://localhost:8080/"
        },
        "id": "lu8RV200WOwi",
        "outputId": "d0c5047f-d11f-47aa-fe42-c3097aceea07"
      },
      "source": [
        "## Problem 10\r\n",
        "\r\n",
        "dictionaryA = {}\r\n",
        "dictionaryA[\"Martin Luther\"] = {\"age\": 123, \"phone\": 6198223333, \"favCol\": \"green\"}\r\n",
        "dictionaryA[\"Snaggy Mo\"] = {\"age\": 34, \"phone\": 6198623443, \"favCol\": \"purple\"}\r\n",
        "print(dictionaryA)\r\n",
        "\r\n",
        "## Another implementation\r\n",
        "bandrick = {\"age\":12,\"phone\":619344556,\"favCol\": \"blue\"}\r\n",
        "dictionaryB = {\"bandrick\": bandrick}\r\n",
        "print(dictionaryB)"
      ],
      "execution_count": 47,
      "outputs": [
        {
          "output_type": "stream",
          "text": [
            "{'Martin Luther': {'age': 123, 'phone': 6198223333, 'favCol': 'green'}, 'Snaggy Mo': {'age': 34, 'phone': 6198623443, 'favCol': 'purple'}}\n",
            "{'bandrick': {'age': 12, 'phone': 619344556, 'favCol': 'blue'}}\n"
          ],
          "name": "stdout"
        }
      ]
    }
  ]
}