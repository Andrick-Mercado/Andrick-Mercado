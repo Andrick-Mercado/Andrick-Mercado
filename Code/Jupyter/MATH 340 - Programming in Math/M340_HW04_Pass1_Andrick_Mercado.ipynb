{
  "nbformat": 4,
  "nbformat_minor": 0,
  "metadata": {
    "colab": {
      "name": "M340_HW04_Pass1_Andrick_Mercado.ipynb",
      "provenance": [],
      "collapsed_sections": []
    },
    "kernelspec": {
      "name": "python3",
      "display_name": "Python 3.8.6 64-bit",
      "metadata": {
        "interpreter": {
          "hash": "b7b2c91f9f4bf7c28c537d55dd8879b23c5f0515eaf16e0418fb779423857b9f"
        }
      }
    }
  },
  "cells": [
    {
      "cell_type": "markdown",
      "metadata": {
        "id": "YGyVQUYH-2nO"
      },
      "source": [
        "* **Name:** Andrick Mercado\r\n",
        "* **Score:** "
      ]
    },
    {
      "cell_type": "markdown",
      "metadata": {
        "id": "AVKGny3I_CFY"
      },
      "source": [
        "# Imports\r\n",
        "These are standard imports used in mathematical compuing. Please run/compile this code block before beginning. Good luck!"
      ]
    },
    {
      "cell_type": "code",
      "metadata": {
        "id": "Q3Bx7ZbG-icS"
      },
      "source": [
        "import numpy as np\r\n",
        "import matplotlib.pyplot as plt\r\n",
        "%matplotlib inline"
      ],
      "execution_count": 64,
      "outputs": []
    },
    {
      "cell_type": "markdown",
      "metadata": {
        "id": "G4JEsHY7_QBD"
      },
      "source": [
        "#P01"
      ]
    },
    {
      "cell_type": "markdown",
      "metadata": {
        "id": "H9SUfulMsUCR"
      },
      "source": [
        "**Example:**\r\n",
        "\r\n",
        "\\begin{equation} \r\n",
        "\\begin{split}\r\n",
        " &  x_i = -2+0.5i,\\qquad i=0,1,...,8 \\\\\r\n",
        " &  y_i = x_i -1 \r\n",
        "\\end{split}\r\n",
        "\\end{equation}"
      ]
    },
    {
      "cell_type": "code",
      "metadata": {
        "id": "giHSbrTY_lYl",
        "colab": {
          "base_uri": "https://localhost:8080/",
          "height": 281
        },
        "outputId": "f78a8ee3-d4b5-481a-b49d-ba1dd82c8bdb"
      },
      "source": [
        "def f(x):\n",
        "    return x-1\n",
        "x = [-2 + i*0.5 for i in range(9)]\n",
        "y = [f(_) for _ in x]\n",
        "\n",
        "plt.plot(x, y, 'o', c = '#ff0000', label = '$y=x-2$')\n",
        "plt.xlabel('$x$')\n",
        "plt.xlabel('$y$')\n",
        "plt.grid(alpha = 0.618)\n",
        "plt.legend(shadow = True)\n",
        "plt.hlines(0, -2, 2,color = 'k')\n",
        "plt.vlines(0, -3, 1,color = 'k')\n",
        "plt.savefig('figure.png', bbox_inches = 'tight', dpi = 300)\n"
      ],
      "execution_count": 1,
      "outputs": [
        {
          "output_type": "error",
          "ename": "NameError",
          "evalue": "name 'plt' is not defined",
          "traceback": [
            "\u001b[1;31m---------------------------------------------------------------------------\u001b[0m",
            "\u001b[1;31mNameError\u001b[0m                                 Traceback (most recent call last)",
            "\u001b[1;32m<ipython-input-1-832837b9ba08>\u001b[0m in \u001b[0;36m<module>\u001b[1;34m\u001b[0m\n\u001b[0;32m      4\u001b[0m \u001b[0my\u001b[0m \u001b[1;33m=\u001b[0m \u001b[1;33m[\u001b[0m\u001b[0mf\u001b[0m\u001b[1;33m(\u001b[0m\u001b[0m_\u001b[0m\u001b[1;33m)\u001b[0m \u001b[1;32mfor\u001b[0m \u001b[0m_\u001b[0m \u001b[1;32min\u001b[0m \u001b[0mx\u001b[0m\u001b[1;33m]\u001b[0m\u001b[1;33m\u001b[0m\u001b[1;33m\u001b[0m\u001b[0m\n\u001b[0;32m      5\u001b[0m \u001b[1;33m\u001b[0m\u001b[0m\n\u001b[1;32m----> 6\u001b[1;33m \u001b[0mplt\u001b[0m\u001b[1;33m.\u001b[0m\u001b[0mplot\u001b[0m\u001b[1;33m(\u001b[0m\u001b[0mx\u001b[0m\u001b[1;33m,\u001b[0m \u001b[0my\u001b[0m\u001b[1;33m,\u001b[0m \u001b[1;34m'o'\u001b[0m\u001b[1;33m,\u001b[0m \u001b[0mc\u001b[0m \u001b[1;33m=\u001b[0m \u001b[1;34m'#ff0000'\u001b[0m\u001b[1;33m,\u001b[0m \u001b[0mlabel\u001b[0m \u001b[1;33m=\u001b[0m \u001b[1;34m'$y=x-2$'\u001b[0m\u001b[1;33m)\u001b[0m\u001b[1;33m\u001b[0m\u001b[1;33m\u001b[0m\u001b[0m\n\u001b[0m\u001b[0;32m      7\u001b[0m \u001b[0mplt\u001b[0m\u001b[1;33m.\u001b[0m\u001b[0mxlabel\u001b[0m\u001b[1;33m(\u001b[0m\u001b[1;34m'$x$'\u001b[0m\u001b[1;33m)\u001b[0m\u001b[1;33m\u001b[0m\u001b[1;33m\u001b[0m\u001b[0m\n\u001b[0;32m      8\u001b[0m \u001b[0mplt\u001b[0m\u001b[1;33m.\u001b[0m\u001b[0mxlabel\u001b[0m\u001b[1;33m(\u001b[0m\u001b[1;34m'$y$'\u001b[0m\u001b[1;33m)\u001b[0m\u001b[1;33m\u001b[0m\u001b[1;33m\u001b[0m\u001b[0m\n",
            "\u001b[1;31mNameError\u001b[0m: name 'plt' is not defined"
          ]
        }
      ]
    },
    {
      "cell_type": "markdown",
      "metadata": {
        "id": "b3tGLdAu_YDk"
      },
      "source": [
        "#P02"
      ]
    },
    {
      "cell_type": "markdown",
      "metadata": {
        "id": "rvLuhY9zs7Od"
      },
      "source": [
        "**Example:**\r\n",
        " \\begin{equation} \r\n",
        "\\begin{split}\r\n",
        " &  x_i = -2+0.5i,\\qquad i=0,1,...,8 \\\\\r\n",
        " &  y_i = x_i^2 \r\n",
        "\\end{split}\r\n",
        "\\end{equation}"
      ]
    },
    {
      "cell_type": "code",
      "metadata": {
        "id": "s2K9sDrm_l_T",
        "colab": {
          "base_uri": "https://localhost:8080/",
          "height": 281
        },
        "outputId": "dc92e6ea-366a-4eb4-b972-d8e51e8c1661"
      },
      "source": [
        "def f(x):\r\n",
        "  return x**2\r\n",
        " \r\n",
        "x = [-2 + i*0.5 for i in range(9)]\r\n",
        "y = [f(_) for _ in x]\r\n",
        "\r\n",
        "plt.plot(x, y, 'o', c = '#ff0000', label = '$y=x^2$')\r\n",
        "plt.xlabel('$x$')\r\n",
        "plt.xlabel('$y$')\r\n",
        "plt.grid(alpha = 0.618)\r\n",
        "plt.legend(shadow = True)\r\n",
        "plt.hlines(0, -2, 2,color = 'k')\r\n",
        "plt.vlines(0, 0, 4,color = 'k')\r\n",
        "plt.savefig('figure.png', bbox_inches = 'tight', dpi = 300)"
      ],
      "execution_count": 66,
      "outputs": [
        {
          "output_type": "display_data",
          "data": {
            "image/png": "[encoded data removed]",
            "text/plain": [
              "<Figure size 432x288 with 1 Axes>"
            ]
          },
          "metadata": {
            "tags": [],
            "needs_background": "light"
          }
        }
      ]
    },
    {
      "cell_type": "markdown",
      "metadata": {
        "id": "lIPLXLJn_YNF"
      },
      "source": [
        "#P03\r\n"
      ]
    },
    {
      "cell_type": "markdown",
      "metadata": {
        "id": "TasYgNQKxOhE"
      },
      "source": [
        "**Example:**\r\n",
        " \\begin{equation} \r\n",
        "\\begin{split}\r\n",
        " &  x_i = -2+0.5i,\\qquad i=0,1,...,8 \\\\\r\n",
        " &  y_i = x_i^3 \r\n",
        "\\end{split}\r\n",
        "\\end{equation}"
      ]
    },
    {
      "cell_type": "code",
      "metadata": {
        "id": "hU2Kwn_I_mer",
        "colab": {
          "base_uri": "https://localhost:8080/",
          "height": 281
        },
        "outputId": "4e370152-5174-4741-abf5-811b5dfde2e0"
      },
      "source": [
        "def f(x):\r\n",
        "  return x**3\r\n",
        " \r\n",
        "x = [-2 + i*0.5 for i in range(9)]\r\n",
        "y = [f(_) for _ in x]\r\n",
        "\r\n",
        "plt.plot(x, y, 'o', c = '#ff0000', label = '$y=x^3$')\r\n",
        "plt.xlabel('$x$')\r\n",
        "plt.xlabel('$y$')\r\n",
        "plt.grid(alpha = 0.618)\r\n",
        "plt.legend(shadow = True)\r\n",
        "plt.hlines(0, -2, 2,color = 'k')\r\n",
        "plt.vlines(0, -8, 8,color = 'k')\r\n",
        "plt.savefig('figure.png', bbox_inches = 'tight', dpi = 300)"
      ],
      "execution_count": 67,
      "outputs": [
        {
          "output_type": "display_data",
          "data": {
            "image/png": "[encoded data removed]",
            "text/plain": [
              "<Figure size 432x288 with 1 Axes>"
            ]
          },
          "metadata": {
            "tags": [],
            "needs_background": "light"
          }
        }
      ]
    },
    {
      "cell_type": "markdown",
      "metadata": {
        "id": "JVMd8yRC_YYZ"
      },
      "source": [
        "#P04"
      ]
    },
    {
      "cell_type": "markdown",
      "metadata": {
        "id": "WJl9fmbRxWU_"
      },
      "source": [
        "**Example:**\r\n",
        " \\begin{equation} \r\n",
        "\\begin{split}\r\n",
        " n &  = 0, 1, ..., 15 \\\\\r\n",
        " S(n) &   = \\sum_{i=0}^n\\frac{1}{2^n} \r\n",
        "\\end{split}\r\n",
        "\\end{equation}"
      ]
    },
    {
      "cell_type": "code",
      "metadata": {
        "id": "t1JhEvBS_nLt",
        "colab": {
          "base_uri": "https://localhost:8080/",
          "height": 287
        },
        "outputId": "77d0e5e2-1512-42fa-dc31-c598c73c1956"
      },
      "source": [
        "def S(n):\r\n",
        "  return sum([0.5**i for i in range(n+1)])\r\n",
        " \r\n",
        "n = [*range(16)]\r\n",
        "y = [S(_) for _ in n]\r\n",
        "\r\n",
        "plt.plot(n, y, 'x', c = '#0080ff', label = '$y=\\sum_{i=0}^n\\fract{1}{2^i}$')\r\n",
        "plt.xlabel('$n$')\r\n",
        "plt.xlabel('$\\sum$')\r\n",
        "plt.grid(alpha = 0.618)\r\n",
        "plt.legend(shadow = True, loc = 7)\r\n",
        "plt.hlines(0, 0, 15.05,color = 'k')\r\n",
        "plt.vlines(0, 0, 2.05,color = 'k')\r\n",
        "plt.savefig('figure.png', bbox_inches = 'tight', dpi = 300)"
      ],
      "execution_count": 68,
      "outputs": [
        {
          "output_type": "display_data",
          "data": {
            "image/png": "[encoded data removed]",
            "text/plain": [
              "<Figure size 432x288 with 1 Axes>"
            ]
          },
          "metadata": {
            "tags": [],
            "needs_background": "light"
          }
        }
      ]
    },
    {
      "cell_type": "markdown",
      "metadata": {
        "id": "YQo7HdYv_Yja"
      },
      "source": [
        "#P05"
      ]
    },
    {
      "cell_type": "markdown",
      "metadata": {
        "id": "VwctOj1Zx3Xl"
      },
      "source": [
        "**Example:**\r\n",
        " \\begin{equation} \r\n",
        "\\begin{split}\r\n",
        " n &  = 0, 1, ..., 10 \\\\\r\n",
        " S(n) &   = \\sum_{i=0}^n\\frac{(-1)^i}{i^2+1} \r\n",
        "\\end{split}\r\n",
        "\\end{equation}"
      ]
    },
    {
      "cell_type": "code",
      "metadata": {
        "id": "9x0g_r_s_nmn",
        "colab": {
          "base_uri": "https://localhost:8080/",
          "height": 287
        },
        "outputId": "9d0d0e75-5fe4-4bab-d9c9-96e897e98b48"
      },
      "source": [
        "def S(n):\r\n",
        "  return sum([(-1)**i/(i**2+1) for i in range(n+1)])\r\n",
        " \r\n",
        "n = [*range(11)]\r\n",
        "y = [S(_) for _ in n]\r\n",
        "\r\n",
        "plt.plot(n, y, 'x', c = '#0080ff', label = '$y=\\sum_{i=0}^n\\fract{1}{2^i}$')\r\n",
        "plt.xlabel('$n$')\r\n",
        "plt.xlabel('$\\sum$')\r\n",
        "plt.grid(alpha = 0.618)\r\n",
        "plt.legend(shadow = True, loc = 0)\r\n",
        "plt.hlines(0, 0, 10,color = 'k')\r\n",
        "plt.vlines(0, 0, 1,color = 'k')\r\n",
        "plt.savefig('figure.png', bbox_inches = 'tight', dpi = 300)"
      ],
      "execution_count": 69,
      "outputs": [
        {
          "output_type": "display_data",
          "data": {
            "image/png": "[encoded data removed]",
            "text/plain": [
              "<Figure size 432x288 with 1 Axes>"
            ]
          },
          "metadata": {
            "tags": [],
            "needs_background": "light"
          }
        }
      ]
    },
    {
      "cell_type": "markdown",
      "metadata": {
        "id": "9Hne0Ijp_YrR"
      },
      "source": [
        "#P06"
      ]
    },
    {
      "cell_type": "markdown",
      "metadata": {
        "id": "S0dS78f1yEtx"
      },
      "source": [
        "**Example:**\r\n",
        " \\begin{equation} \r\n",
        "\\begin{split}\r\n",
        " n &  = 0, 1, ..., 10 \\\\\r\n",
        " S(n) &   = \\sum_{i=0}^n\\frac{\\cos(i\\pi)}{i+1} \r\n",
        "\\end{split}\r\n",
        "\\end{equation}"
      ]
    },
    {
      "cell_type": "code",
      "metadata": {
        "id": "0G3F2FLo_oIn",
        "colab": {
          "base_uri": "https://localhost:8080/",
          "height": 287
        },
        "outputId": "fddd0741-5382-4c36-c610-720716eb312b"
      },
      "source": [
        "def S(n):\r\n",
        "  return sum([np.cos(np.pi*i)/(i+2) for i in range(n+1)])\r\n",
        " \r\n",
        "n = [*range(51)]\r\n",
        "y = [S(_) for _ in n]\r\n",
        "\r\n",
        "plt.plot(n, y, 'x', c = '#0080ff', label = '$y=\\sum_{i=0}^n\\fract{1}{2^i}$')\r\n",
        "plt.xlabel('$n$')\r\n",
        "plt.xlabel('$\\sum$')\r\n",
        "plt.grid(alpha = 0.618)\r\n",
        "plt.legend(shadow = True, loc = 0)\r\n",
        "plt.hlines(0, 0, 50,color = 'k')\r\n",
        "plt.vlines(0, 0, 1,color = 'k')\r\n",
        "plt.savefig('figure.png', bbox_inches = 'tight', dpi = 300)"
      ],
      "execution_count": 70,
      "outputs": [
        {
          "output_type": "display_data",
          "data": {
            "image/png": "[encoded data removed]",
            "text/plain": [
              "<Figure size 432x288 with 1 Axes>"
            ]
          },
          "metadata": {
            "tags": [],
            "needs_background": "light"
          }
        }
      ]
    },
    {
      "cell_type": "markdown",
      "metadata": {
        "id": "QpjWqrDw_YwX"
      },
      "source": [
        "#P07"
      ]
    },
    {
      "cell_type": "markdown",
      "metadata": {
        "id": "G9P3ftdqyTPC"
      },
      "source": [
        "**Example:**\r\n",
        " \\begin{equation} \r\n",
        "\\begin{split}\r\n",
        " n &  = 1, ... \\\\\r\n",
        " a_n &   = \\left(1+\\frac{1}{n}\\right)^n \r\n",
        "\\end{split}\r\n",
        "\\end{equation}"
      ]
    },
    {
      "cell_type": "code",
      "metadata": {
        "id": "bqPYgSqr_pFo",
        "colab": {
          "base_uri": "https://localhost:8080/",
          "height": 281
        },
        "outputId": "58ed73b0-67f9-481e-8900-55eeb7c3540c"
      },
      "source": [
        "def a(n):\r\n",
        "  return (1+1/n)**n\r\n",
        " \r\n",
        "n = [*range(1,26)]\r\n",
        "y = [a(_) for _ in n]\r\n",
        "\r\n",
        "plt.plot(n, y, '.', c = '#7f1e38', label = '$y=(1+1/n)^n$')\r\n",
        "plt.xlabel('$n$')\r\n",
        "plt.xlabel('$a_n$')\r\n",
        "plt.grid(alpha = 0.618)\r\n",
        "plt.legend(shadow = True, loc = 2)\r\n",
        "plt.hlines(0, 0, 26,color = 'k')\r\n",
        "plt.vlines(0, 0, 3,color = 'k')\r\n",
        "plt.savefig('figure.png', bbox_inches = 'tight', dpi = 300)"
      ],
      "execution_count": 71,
      "outputs": [
        {
          "output_type": "display_data",
          "data": {
            "image/png": "[encoded data removed]",
            "text/plain": [
              "<Figure size 432x288 with 1 Axes>"
            ]
          },
          "metadata": {
            "tags": [],
            "needs_background": "light"
          }
        }
      ]
    },
    {
      "cell_type": "markdown",
      "metadata": {
        "id": "dJOOyNDU_Y0p"
      },
      "source": [
        "#P08"
      ]
    },
    {
      "cell_type": "markdown",
      "metadata": {
        "id": "HYltga9QzUXS"
      },
      "source": [
        "**Example:**\r\n",
        " \\begin{equation} \r\n",
        "\\begin{split}\r\n",
        " \\pi & = 4 \\left(1-\\frac{1}{3}+\\frac{1}{7}-\\frac{1}{7}+...\\right)\r\n",
        "\\end{split}\r\n",
        "\\end{equation}"
      ]
    },
    {
      "cell_type": "code",
      "metadata": {
        "id": "4byaYlt1_qJx",
        "colab": {
          "base_uri": "https://localhost:8080/",
          "height": 281
        },
        "outputId": "cf893713-82da-45d5-ae7b-f361809dd1d3"
      },
      "source": [
        "def pi(n):\r\n",
        "  return sum([4*(-1)**n/(2*n+1) for n in range(n)])\r\n",
        " \r\n",
        "n = [*range(1, 51)]\r\n",
        "y = [pi(_) for _ in n]\r\n",
        "\r\n",
        "plt.plot(n, y, '.', c = '#7f1e38', label = '$y=\\sum$')\r\n",
        "plt.xlabel('$n$')\r\n",
        "plt.xlabel('$\\pi_n$')\r\n",
        "plt.grid(alpha = 0.618)\r\n",
        "plt.legend(shadow = True, loc = 2)\r\n",
        "plt.hlines(0, 0, 11,color = 'k')\r\n",
        "plt.vlines(0, 0, 3,color = 'k')\r\n",
        "plt.savefig('figure.png', bbox_inches = 'tight', dpi = 300)"
      ],
      "execution_count": 72,
      "outputs": [
        {
          "output_type": "display_data",
          "data": {
            "image/png": "[encoded data removed]",
            "text/plain": [
              "<Figure size 432x288 with 1 Axes>"
            ]
          },
          "metadata": {
            "tags": [],
            "needs_background": "light"
          }
        }
      ]
    },
    {
      "cell_type": "markdown",
      "metadata": {
        "id": "I8Ot-xPu_Y6t"
      },
      "source": [
        "#P09"
      ]
    },
    {
      "cell_type": "code",
      "metadata": {
        "id": "sgJufoRv_qv2",
        "colab": {
          "base_uri": "https://localhost:8080/",
          "height": 279
        },
        "outputId": "fef0a329-3cbf-4944-d4a2-da3c2975231c"
      },
      "source": [
        "n = np.linspace(0, 2*np.pi)\r\n",
        "x = np.cos(n)\r\n",
        "y = np.sin(n)\r\n",
        "\r\n",
        "plt.plot(x, y,'-', c = '#ff0000', label = '$x^2+y^2=1$')\r\n",
        "plt.xlabel('$y$')\r\n",
        "plt.xlabel('$x$')\r\n",
        "plt.grid(alpha = 0.618)\r\n",
        "plt.legend(shadow = True, loc = 0)\r\n",
        "plt.axis('equal')\r\n",
        "plt.savefig('figure.png', bbox_inches = 'tight', dpi = 300)"
      ],
      "execution_count": 73,
      "outputs": [
        {
          "output_type": "display_data",
          "data": {
            "image/png": "[encoded data removed]",
            "text/plain": [
              "<Figure size 432x288 with 1 Axes>"
            ]
          },
          "metadata": {
            "tags": [],
            "needs_background": "light"
          }
        }
      ]
    },
    {
      "cell_type": "markdown",
      "metadata": {
        "id": "UyKXgAXWBKBt"
      },
      "source": [
        "- This method revolves around the graphs of $\\cos(\\theta)$ and $\\sin(\\theta)$ as both of their graphs form a circle if added, while $x^2+y^2=1$ takes in two variables as compared to one from  $\\cos(\\theta)+\\sin(\\theta)$, all while keeping the radious at a constant of 1."
      ]
    }
  ]
}