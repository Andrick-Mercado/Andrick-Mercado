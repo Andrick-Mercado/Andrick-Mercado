{
 "cells": [
  {
   "cell_type": "markdown",
   "metadata": {
    "id": "VQnDwBab20nO"
   },
   "source": [
    "**Score:** 86/100"
   ]
  },
  {
   "cell_type": "markdown",
   "metadata": {
    "id": "wxMvox4p2zUp"
   },
   "source": [
    "# Homework 2\n",
    "\n",
    "> Andrick Mercado\n",
    "\n",
    "> 2/18/2021\n",
    "\n",
    "\n",
    "---\n",
    "\n",
    "\n"
   ]
  },
  {
   "cell_type": "markdown",
   "metadata": {
    "id": "WGgzJyDsyCet"
   },
   "source": [
    "**Problem 1**\n",
    "\n",
    "$$ \\int{\\sec^3(x)\\, dx} = \\int{\\sec(x) \\cdot \\sec^2(x)\\, dx } $$\n",
    "$$ Let \\,u=\\sec{(x)}, \\, dv=sec^3(x),\\, du = \\sec(x) \\tan(x)\\,dx, v = \\tan(x) $$\n",
    "$\\text{Now, } $\n",
    "$$= \\sec(x)tan(x)-\\int{\\tan^2(x)\\sec(x)\\,dx} $$\n",
    "$$= \\sec(x)\\tan(x)-\\int{(\\sec^2(x)-1)\\sec(x)\\,dx} $$\n",
    "$$= \\sec(x)\\tan(x)-\\int{\\sec^3(x)-\\sec(x)\\,dx} $$\n",
    "$$= \\sec(x)\\tan(x)-\\int{\\sec^3(x)\\,dx}+\\int{\\sec(x)\\,dx} $$\n",
    "$$= \\int{\\sec^3(x)\\, dx} = \\sec(x)\\tan(x)-\\int{\\sec^3(x)\\,dx}+\\int{\\sec(x)\\,dx}  $$\n",
    "$$= \\int{\\sec^3(x)\\, dx} +\\int{\\sec^3(x)\\, dx} = \\sec(x)\\tan(x) + \\int{\\sec(x) \\,dx}  $$\n",
    "$$= 2\\int{\\sec^3(x)\\,dx} = \\sec(x)\\tan(x) + \\int{\\sec(x) \\,dx} $$\n",
    "$$=\\frac{1}{2}( \\sec x \\tan x +\\ln|\\sec x+\\tan x|)+ C $$\n",
    "$$ $$\n",
    "$\\text{ Using the Reciprocal and  Quotient identities, }$\n",
    "\n",
    "$$ \\qquad \\sec \\theta = \\frac{1}{\\cos \\theta }, and \\, \\tan \\theta = \\frac{\\sin \\theta }{\\cos \\theta }$$\n",
    "$$ $$\n",
    "$$\\text{We get, }\\qquad \\ln|\\sec x+\\tan x| = \\ln\\left\\lvert \\frac{1}{\\cos x}+ \\frac{\\sin x}{\\cos x}\\right\\rvert = \\ln\\left\\lvert \\frac{1+\\sin x}{\\cos x}   \\right\\rvert = \\ln|1+\\sin x|-\\ln|\\cos x|$$\n",
    "$$ $$\n",
    "$\\text{With this we say,}  $\n",
    "$$ \\int{\\sec^3(x)\\, dx} = \\tfrac{1}{2} \\sec x \\tan x +\\tfrac{1}{2}\\ln|1+\\sin x|-\\tfrac{1}{2} \\ln|\\cos x|+ C  $$\n"
   ]
  },
  {
   "cell_type": "markdown",
   "metadata": {
    "id": "8jkQrzmA256m"
   },
   "source": [
    "**Score:** 8/10\n",
    "* Don't forget `\\ln`.\n",
    "* Equal signs are a thing."
   ]
  },
  {
   "cell_type": "markdown",
   "metadata": {
    "id": "_G1O2BcFcin7"
   },
   "source": [
    "**Problem 2**\n",
    "$$ $$\n",
    "$ \\sum_{n=0}^\\infty3(\\frac{1}{2})^n  = 3\\sum_{n=0}^\\infty(\\frac{1}{2})^n $\n",
    "\n",
    "Since the ratio is one half, |ratio| < 1 which means it converges were its value is given by, $ \\frac{first \\,term}{1-ratio}$ in which we get $ \\frac{1}{\\frac{1}{2}} = 2$\n",
    "$$ $$\n",
    "By this we see that $ 3\\sum_{n=0}^\\infty(\\frac{1}{2})^n = 3\\cdot 2 = 6$\n"
   ]
  },
  {
   "cell_type": "markdown",
   "metadata": {
    "id": "7P2GKZcB4O_S"
   },
   "source": [
    "**Score:** 10/10"
   ]
  },
  {
   "cell_type": "markdown",
   "metadata": {
    "id": "0zdXhAmxqEob"
   },
   "source": [
    "**Problem 3**\n",
    "\n",
    "Similar to question 2 we begin by calculating the ratio since |ratio|< 1, we get the series value by $ \\frac{first \\,term}{1-ratio} = \\frac{(\\frac{1}{2})^3}{\\frac{1}{2}} = \\frac{1}{4}$\n",
    "\n",
    "From this we conclude that,  $3\\sum_{n=3}^\\infty(\\frac{1}{2})^n = 3 \\cdot \\frac{1}{4} = \\frac{3}{4}$ "
   ]
  },
  {
   "cell_type": "markdown",
   "metadata": {
    "id": "fvEaFVEE4Tsf"
   },
   "source": [
    "**Score:** 10/10\n",
    "* Your answer is correct but does not follow the directions."
   ]
  },
  {
   "cell_type": "markdown",
   "metadata": {
    "id": "Qu_IOXnjsfM2"
   },
   "source": [
    "**Problem 4**\n",
    "\n",
    "$ \\sum_{n=1}^{100}n \\quad$ using $ \\sum_{i=1}^n i =\\frac{n(n+1)}{2} $, which we get $ \\sum_{n=1}^{100}n = 5050 $\n",
    "\n",
    "\n",
    "\n"
   ]
  },
  {
   "cell_type": "code",
   "execution_count": null,
   "metadata": {
    "colab": {
     "base_uri": "https://localhost:8080/"
    },
    "id": "Jcb_jOwYxKUk",
    "outputId": "fe216cb4-45b9-41e2-bb36-853b0c91a8c1"
   },
   "outputs": [
    {
     "name": "stdout",
     "output_type": "stream",
     "text": [
      "The sum using python is  5050\n"
     ]
    }
   ],
   "source": [
    "sum = 0\n",
    "for x in range (101):\n",
    "  sum += x\n",
    "print(\"The sum using python is \", sum)"
   ]
  },
  {
   "cell_type": "markdown",
   "metadata": {
    "id": "kqIJYMpS4dWC"
   },
   "source": [
    "**Score:** 10/10\n",
    "* You should have used the command I provided."
   ]
  },
  {
   "cell_type": "markdown",
   "metadata": {
    "id": "r3n-FvW9zF4k"
   },
   "source": [
    "**Problem 5**\n"
   ]
  },
  {
   "cell_type": "code",
   "execution_count": 3,
   "metadata": {
    "colab": {
     "base_uri": "https://localhost:8080/"
    },
    "id": "ameAYozW37T_",
    "outputId": "e395db4d-4f16-424f-b60f-b1421313812d"
   },
   "outputs": [
    {
     "name": "stdout",
     "output_type": "stream",
     "text": [
      "The number 42 to binary is 0b101010 and 127 is  0b1111111 in binary.\n",
      "With this the addition of both binary numbers equals to 169 which is 0b10101001 in binary\n"
     ]
    }
   ],
   "source": [
    "r1 = bin(42)\n",
    "r2 = bin(127)\n",
    "print(\"The number 42 to binary is\", r1, \"and 127 is \",r2,\"in binary.\" )\n",
    "print(\"With this the addition of both binary numbers equals to\", int(r1, 2) + int(r2, 2),\"which is\",bin(169),\"in binary\" )"
   ]
  },
  {
   "cell_type": "markdown",
   "metadata": {
    "id": "CbFMiNva4lrG"
   },
   "source": [
    "**Score:** 9/10\n",
    "* What is 169 in binary?"
   ]
  },
  {
   "cell_type": "markdown",
   "metadata": {
    "id": "Qh_0AnZS7dhH"
   },
   "source": [
    "**Problem 6**\n",
    "\n",
    "1. For #a the line of code should store the numbers from 0 to 9, with 10 elements\n",
    "2. For #b the line of code should store every number in increments of 10 on the range 0 to 99, with 10 elements\n",
    "3. For #c the line of code should store every number that is one number away from every 5 counting up for instance 6 but not 4,    on the range 0 to 24, with 5 elements\n",
    "4. For #d the line of code should store every number on range 0 to 49 that is 2 numbers away from 3 when divided by three and 1 number away when divided by 5, for instance possible values are 1, 6, 11, 21 but with %3 == 2 only a few are stored as they need to be one number away from a divisible of 5, and at the same time when divided by 3 have a remainder of two, with 3 elements\n",
    "\n"
   ]
  },
  {
   "cell_type": "code",
   "execution_count": null,
   "metadata": {
    "colab": {
     "base_uri": "https://localhost:8080/"
    },
    "id": "bJh9B7UJ-RNV",
    "outputId": "1be0fba4-4999-4b33-d58f-301edc1cda56"
   },
   "outputs": [
    {
     "name": "stdout",
     "output_type": "stream",
     "text": [
      "#a [0, 1, 2, 3, 4, 5, 6, 7, 8, 9]\n",
      "#b [0, 10, 20, 30, 40, 50, 60, 70, 80, 90]\n",
      "#c [1, 6, 11, 16, 21]\n",
      "#d [11, 26, 41]\n"
     ]
    }
   ],
   "source": [
    "numbers = [ x for x in  range(10) ]\n",
    "print(\"#a\",numbers)\n",
    "numbers = [ x for x in  range(0 ,  100 ,  10) ]\n",
    "print(\"#b\",numbers)\n",
    "numbers = [ x for x in  range(25) if x%5==1]\n",
    "print(\"#c\",numbers)\n",
    "numbers = [ x for x in  range(50) if x%5==1 and x%3==2]\n",
    "print(\"#d\",numbers)"
   ]
  },
  {
   "cell_type": "markdown",
   "metadata": {
    "id": "9oRb60Ej40BV"
   },
   "source": [
    "**Score:** 6/10\n",
    "* How many elements are in each list?"
   ]
  },
  {
   "cell_type": "markdown",
   "metadata": {
    "id": "Yy_68l9ECIrA"
   },
   "source": [
    "**Problem 7**\n",
    "\n",
    "1. A list unlike an array is composed of a flexible size, that does not have to be stated. In order to acess firts object in a list we call the list by its name and index such as array[1] where indexing starts at 0 and not at 1. We can acess the last element in a list by typing its name followed by -1, array[-1].\n",
    "Now a list is started with any given name as long as is not taken if not it will overlap and potentially cause errors, example test = [123, \"fdff\", 'eee']. Where it can take any object and take strings with \" or '.\n",
    "2. A tuple is the array implementation of python, or atleast very similar in the sense of its size, and how once initiated to a certain size it does not change or accpet new objects, indexed by starting at 0.\n",
    "Example is array = (\"111\",'111',111), where it has 3 elemnents indexed 0, 1 ,2 respectively, and if attempted to call array[3] would cause an error as it is not part of the array.\n",
    "3. A set is unlike the other two data structures in the sense that they dont have duplicates and its accesing time is constant meaning quick and efficient, however its elemnts are not arranged in any particular order as they are unindexed. Example is thisset = set([[\"1\",'a',23]]), where it is not indexed as elements in sets implement a hash table which uses linked list hence the reason why index is not accesible.\n"
   ]
  },
  {
   "cell_type": "code",
   "execution_count": 5,
   "metadata": {},
   "outputs": [
    {
     "name": "stdout",
     "output_type": "stream",
     "text": [
      "List: (123, 'fdff', 'eee')\n",
      "Tuple: ('111', '111', 111)\n",
      "Set: {'1', 'a', 23}\n"
     ]
    }
   ],
   "source": [
    "test = 123, \"fdff\", 'eee'\n",
    "array = (\"111\",'111',111)\n",
    "thisset = set([\"1\",'a',23])\n",
    "print(\"List:\",test)\n",
    "print(\"Tuple:\", array)\n",
    "print(\"Set:\", thisset)"
   ]
  },
  {
   "cell_type": "markdown",
   "metadata": {
    "id": "BoKw0-rW49np"
   },
   "source": [
    "**Score:** 7/10\n",
    "* Please give your examples in Python code."
   ]
  },
  {
   "cell_type": "code",
   "execution_count": null,
   "metadata": {
    "colab": {
     "base_uri": "https://localhost:8080/"
    },
    "id": "8lXtLawjR4s9",
    "outputId": "e52ca250-1cc5-445b-c428-b1cba096dff8"
   },
   "outputs": [
    {
     "name": "stdout",
     "output_type": "stream",
     "text": [
      "12 is even\n",
      "2 is even\n",
      "6 is even\n",
      "7896 is even\n",
      "Total Number of evens in List: 4\n"
     ]
    }
   ],
   "source": [
    "## Problem 8\n",
    "randomList = [12,345,2,6,7896]\n",
    "counter = 0\n",
    "for x in range(len(randomList)):\n",
    "  if randomList[x]%2==0:\n",
    "    counter +=1\n",
    "    print(randomList[x],\"is even\")\n",
    "print(\"Total Number of evens in List:\",counter)"
   ]
  },
  {
   "cell_type": "markdown",
   "metadata": {
    "id": "G9a0TlqGT4HG"
   },
   "source": [
    "\n",
    "\n",
    "*   The way I arrived to my answer was by iterasting through the list and than using modulo to find every number that is divisible by 2 and whos remainder is 0, with time complexity of O(n)\n",
    "\n"
   ]
  },
  {
   "cell_type": "markdown",
   "metadata": {
    "id": "Tg5-GnkL5MtY"
   },
   "source": [
    "**Score:** 10/10\n",
    "* Nice"
   ]
  },
  {
   "cell_type": "code",
   "execution_count": 8,
   "metadata": {
    "colab": {
     "base_uri": "https://localhost:8080/"
    },
    "id": "oZCB1RMWUwV1",
    "outputId": "d4494b2d-97e6-48ba-fd9c-9c5f7a945acd"
   },
   "outputs": [
    {
     "name": "stdout",
     "output_type": "stream",
     "text": [
      "List (Tuple) of fruits:\n",
      "apple\n",
      "banana\n",
      "cherry\n",
      "\n",
      "List (Tuple) of vegetables:\n",
      "Artichokes\n",
      "Asian greens\n",
      "Beans\n",
      "Beetroot\n"
     ]
    }
   ],
   "source": [
    "## Problem 9\n",
    "fruit = ('apple','banana','cherry')\n",
    "print(\"List (Tuple) of fruits:\")\n",
    "for x in fruit:\n",
    "  print(x)\n",
    "vegetables = (\"Artichokes\", 'Asian greens', \"Beans\", 'Beetroot')\n",
    "print(\"\\nList (Tuple) of vegetables:\")\n",
    "for x in vegetables:\n",
    "  print(x)"
   ]
  },
  {
   "cell_type": "markdown",
   "metadata": {
    "id": "bX1oGhSa5OzF"
   },
   "source": [
    "**Score:** 6/10\n",
    "* Reproduce the fruit tuple from lecture."
   ]
  },
  {
   "cell_type": "code",
   "execution_count": null,
   "metadata": {
    "colab": {
     "base_uri": "https://localhost:8080/"
    },
    "id": "lu8RV200WOwi",
    "outputId": "de62ea2a-abed-474b-8e78-1f32a9c3aa00"
   },
   "outputs": [
    {
     "name": "stdout",
     "output_type": "stream",
     "text": [
      "{'Martin Luther': {'age': 123, 'phone': 6198223333, 'favCol': 'green'}, 'Snaggy Mo': {'age': 34, 'phone': 6198623443, 'favCol': 'purple'}}\n",
      "{'bandrick': {'age': 12, 'phone': 619344556, 'favCol': 'blue'}}\n"
     ]
    }
   ],
   "source": [
    "## Problem 10\n",
    "\n",
    "dictionaryA = {}\n",
    "dictionaryA[\"Martin Luther\"] = {\"age\": 123, \"phone\": 6198223333, \"favCol\": \"green\"}\n",
    "dictionaryA[\"Snaggy Mo\"] = {\"age\": 34, \"phone\": 6198623443, \"favCol\": \"purple\"}\n",
    "print(dictionaryA)\n",
    "\n",
    "## Another implementation\n",
    "bandrick = {\"age\":12,\"phone\":619344556,\"favCol\": \"blue\"}\n",
    "dictionaryB = {\"bandrick\": bandrick}\n",
    "print(dictionaryB)"
   ]
  },
  {
   "cell_type": "markdown",
   "metadata": {
    "id": "IMBBwG965mhR"
   },
   "source": [
    "**Score:** 10/10"
   ]
  }
 ],
 "metadata": {
  "colab": {
   "collapsed_sections": [],
   "name": "Copy of Andrick Mercado HW2Pass1",
   "provenance": []
  },
  "kernelspec": {
   "display_name": "Python 3",
   "language": "python",
   "name": "python3"
  },
  "language_info": {
   "codemirror_mode": {
    "name": "ipython",
    "version": 3
   },
   "file_extension": ".py",
   "mimetype": "text/x-python",
   "name": "python",
   "nbconvert_exporter": "python",
   "pygments_lexer": "ipython3",
   "version": "3.8.5"
  }
 },
 "nbformat": 4,
 "nbformat_minor": 1
}
