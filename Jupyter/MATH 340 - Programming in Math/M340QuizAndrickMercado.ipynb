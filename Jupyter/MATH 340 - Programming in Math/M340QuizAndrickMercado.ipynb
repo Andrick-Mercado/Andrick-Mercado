{
 "cells": [
  {
   "cell_type": "code",
   "execution_count": 12,
   "metadata": {},
   "outputs": [
    {
     "data": {
      "text/plain": [
       "0.6339483423520628"
      ]
     },
     "execution_count": 12,
     "metadata": {},
     "output_type": "execute_result"
    }
   ],
   "source": [
    "function myFunc(n)\n",
    "    s = 0.0\n",
    "    for i in 0:n\n",
    "        s=s+ ((-1)^i)/(i^2+1)\n",
    "    end\n",
    "    return s\n",
    "end\n",
    "y = sum(15)\n"
   ]
  },
  {
   "cell_type": "code",
   "execution_count": null,
   "metadata": {},
   "outputs": [],
   "source": []
  }
 ],
 "metadata": {
  "kernelspec": {
   "display_name": "Julia 1.5.3",
   "language": "julia",
   "name": "julia-1.5"
  },
  "language_info": {
   "file_extension": ".jl",
   "mimetype": "application/julia",
   "name": "julia",
   "version": "1.5.3"
  }
 },
 "nbformat": 4,
 "nbformat_minor": 4
}