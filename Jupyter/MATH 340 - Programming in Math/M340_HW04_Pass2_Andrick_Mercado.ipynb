{
 "cells": [
  {
   "cell_type": "markdown",
   "metadata": {
    "id": "YGyVQUYH-2nO"
   },
   "source": [
    "* **Name:** Andrick Mercado\n",
    "* **Score:** 82/100"
   ]
  },
  {
   "cell_type": "markdown",
   "metadata": {
    "id": "AVKGny3I_CFY"
   },
   "source": [
    "# Imports\n",
    "These are standard imports used in mathematical compuing. Please run/compile this code block before beginning. Good luck!"
   ]
  },
  {
   "cell_type": "code",
   "execution_count": 1,
   "metadata": {
    "id": "Q3Bx7ZbG-icS"
   },
   "outputs": [],
   "source": [
    "import numpy as np\n",
    "import matplotlib.pyplot as plt\n",
    "%matplotlib inline"
   ]
  },
  {
   "cell_type": "markdown",
   "metadata": {
    "id": "G4JEsHY7_QBD"
   },
   "source": [
    "#P01"
   ]
  },
  {
   "cell_type": "markdown",
   "metadata": {
    "id": "H9SUfulMsUCR"
   },
   "source": [
    "**Example:**\n",
    "\n",
    "\\begin{equation} \n",
    "\\begin{split}\n",
    " &  x_i = -2+0.5i,\\qquad i=0,1,...,8 \\\\\n",
    " &  y_i = x_i -1 \n",
    "\\end{split}\n",
    "\\end{equation}"
   ]
  },
  {
   "cell_type": "code",
   "execution_count": 2,
   "metadata": {
    "colab": {
     "base_uri": "https://localhost:8080/",
     "height": 279
    },
    "id": "giHSbrTY_lYl",
    "outputId": "89c1d3ae-102b-412f-b7a7-f6417af3cc70"
   },
   "outputs": [
    {
     "data": {
      "image/png": "[encoded data removed]",
      "text/plain": [
       "<Figure size 432x288 with 1 Axes>"
      ]
     },
     "metadata": {
      "needs_background": "light"
     },
     "output_type": "display_data"
    }
   ],
   "source": [
    "def f(x):\n",
    "    return x-1\n",
    "x = [-2 + i*0.5 for i in range(9)]\n",
    "y = [f(_) for _ in x]\n",
    "\n",
    "plt.plot(x, y, 'o', c = '#ff0000', label = '$y=x-2$')\n",
    "plt.xlabel('$x$')\n",
    "plt.ylabel('$y$')\n",
    "plt.grid(alpha = 0.618)\n",
    "plt.legend(shadow = True)\n",
    "plt.hlines(0, -2, 2,color = 'k')\n",
    "plt.vlines(0, -3, 1,color = 'k')\n",
    "plt.savefig('figure.png', bbox_inches = 'tight', dpi = 300)\n"
   ]
  },
  {
   "cell_type": "markdown",
   "metadata": {
    "id": "b3tGLdAu_YDk"
   },
   "source": [
    "#P02"
   ]
  },
  {
   "cell_type": "markdown",
   "metadata": {
    "id": "rvLuhY9zs7Od"
   },
   "source": [
    "**Example:**\n",
    " \\begin{equation} \n",
    "\\begin{split}\n",
    " &  x_i = -2+0.5i,\\qquad i=0,1,...,8 \\\\\n",
    " &  y_i = x_i^2 \n",
    "\\end{split}\n",
    "\\end{equation}"
   ]
  },
  {
   "cell_type": "code",
   "execution_count": 3,
   "metadata": {
    "colab": {
     "base_uri": "https://localhost:8080/",
     "height": 279
    },
    "id": "s2K9sDrm_l_T",
    "outputId": "0f4bd21c-0bb3-4637-d81b-d76aa55499ad"
   },
   "outputs": [
    {
     "data": {
      "image/png": "[encoded data removed]",
      "text/plain": [
       "<Figure size 432x288 with 1 Axes>"
      ]
     },
     "metadata": {
      "needs_background": "light"
     },
     "output_type": "display_data"
    }
   ],
   "source": [
    "def f(x):\n",
    "  return x**2\n",
    " \n",
    "x = [-2 + i*0.5 for i in range(9)]\n",
    "y = [f(_) for _ in x]\n",
    "\n",
    "plt.plot(x, y, 'o', c = '#ff0000', label = '$y=x^2$')\n",
    "plt.xlabel('$x$')\n",
    "plt.ylabel('$y$')\n",
    "plt.grid(alpha = 0.618)\n",
    "plt.legend(shadow = True)\n",
    "plt.hlines(0, -2, 2,color = 'k')\n",
    "plt.vlines(0, 0, 4,color = 'k')\n",
    "plt.savefig('figure.png', bbox_inches = 'tight', dpi = 300)"
   ]
  },
  {
   "cell_type": "markdown",
   "metadata": {
    "id": "lIPLXLJn_YNF"
   },
   "source": [
    "#P03\n"
   ]
  },
  {
   "cell_type": "markdown",
   "metadata": {
    "id": "TasYgNQKxOhE"
   },
   "source": [
    "**Example:**\n",
    " \\begin{equation} \n",
    "\\begin{split}\n",
    " &  x_i = -2+0.5i,\\qquad i=0,1,...,8 \\\\\n",
    " &  y_i = x_i^3 \n",
    "\\end{split}\n",
    "\\end{equation}"
   ]
  },
  {
   "cell_type": "code",
   "execution_count": 4,
   "metadata": {
    "colab": {
     "base_uri": "https://localhost:8080/",
     "height": 279
    },
    "id": "hU2Kwn_I_mer",
    "outputId": "bf62d953-acd7-4a28-9cdb-7a7fe064bb63"
   },
   "outputs": [
    {
     "data": {
      "image/png": "[encoded data removed]",
      "text/plain": [
       "<Figure size 432x288 with 1 Axes>"
      ]
     },
     "metadata": {
      "needs_background": "light"
     },
     "output_type": "display_data"
    }
   ],
   "source": [
    "def f(x):\n",
    "  return x**3\n",
    " \n",
    "x = [-2 + i*0.5 for i in range(9)]\n",
    "y = [f(_) for _ in x]\n",
    "\n",
    "plt.plot(x, y, 'o', c = '#ff0000', label = '$y=x^3$')\n",
    "plt.xlabel('$x$')\n",
    "plt.ylabel('$y$')\n",
    "plt.grid(alpha = 0.618)\n",
    "plt.legend(shadow = True)\n",
    "plt.hlines(0, -2, 2,color = 'k')\n",
    "plt.vlines(0, -8, 8,color = 'k')\n",
    "plt.savefig('figure.png', bbox_inches = 'tight', dpi = 300)"
   ]
  },
  {
   "cell_type": "markdown",
   "metadata": {
    "id": "JVMd8yRC_YYZ"
   },
   "source": [
    "#P04"
   ]
  },
  {
   "cell_type": "markdown",
   "metadata": {
    "id": "WJl9fmbRxWU_"
   },
   "source": [
    "**Example:**\n",
    " \\begin{equation} \n",
    "\\begin{split}\n",
    " n &  = 0, 1, ..., 15 \\\\\n",
    " S(n) &   = \\sum_{i=0}^n\\frac{1}{2^n} \n",
    "\\end{split}\n",
    "\\end{equation}"
   ]
  },
  {
   "cell_type": "code",
   "execution_count": 5,
   "metadata": {
    "colab": {
     "base_uri": "https://localhost:8080/",
     "height": 279
    },
    "id": "t1JhEvBS_nLt",
    "outputId": "c48c3a3e-7b07-44d6-d7fc-11f8f28efa67"
   },
   "outputs": [
    {
     "data": {
      "image/png": "[encoded data removed]",
      "text/plain": [
       "<Figure size 432x288 with 1 Axes>"
      ]
     },
     "metadata": {
      "needs_background": "light"
     },
     "output_type": "display_data"
    }
   ],
   "source": [
    "def S(n):\n",
    "  return sum([0.5**i for i in range(n+1)])\n",
    " \n",
    "n = [*range(16)]\n",
    "y = [S(_) for _ in n]\n",
    "\n",
    "plt.plot(n, y, 'x', c = '#0080ff', label = '$y=\\sum_{i=0}^n\\fract{1}{2^i}$')\n",
    "plt.xlabel('$n$')\n",
    "plt.ylabel('$\\sum$')\n",
    "plt.grid(alpha = 0.618)\n",
    "plt.legend(shadow = True, loc = 7)\n",
    "plt.hlines(0, 0, 15.05,color = 'k')\n",
    "plt.vlines(0, 0, 2.05,color = 'k')\n",
    "plt.savefig('figure.png', bbox_inches = 'tight', dpi = 300)"
   ]
  },
  {
   "cell_type": "markdown",
   "metadata": {
    "id": "YQo7HdYv_Yja"
   },
   "source": [
    "#P05"
   ]
  },
  {
   "cell_type": "markdown",
   "metadata": {
    "id": "VwctOj1Zx3Xl"
   },
   "source": [
    "**Example:**\n",
    " \\begin{equation} \n",
    "\\begin{split}\n",
    " n &  = 0, 1, ..., 10 \\\\\n",
    " S(n) &   = \\sum_{i=0}^n\\frac{(-1)^i}{i^2+1} \n",
    "\\end{split}\n",
    "\\end{equation}"
   ]
  },
  {
   "cell_type": "code",
   "execution_count": 6,
   "metadata": {
    "colab": {
     "base_uri": "https://localhost:8080/",
     "height": 279
    },
    "id": "9x0g_r_s_nmn",
    "outputId": "d66ba6da-7654-4de2-d027-9795c30d1b43"
   },
   "outputs": [
    {
     "data": {
      "image/png": "[encoded data removed]",
      "text/plain": [
       "<Figure size 432x288 with 1 Axes>"
      ]
     },
     "metadata": {
      "needs_background": "light"
     },
     "output_type": "display_data"
    }
   ],
   "source": [
    "def S(n):\n",
    "  return sum([(-1)**i/(i**2+1) for i in range(n+1)])\n",
    " \n",
    "n = [*range(11)]\n",
    "y = [S(_) for _ in n]\n",
    "\n",
    "plt.plot(n, y, 'x', c = '#0080ff', label = '$y=\\sum_{i=0}^n\\fract{1}{2^i}$')\n",
    "plt.xlabel('$n$')\n",
    "plt.ylabel('$\\sum$')\n",
    "plt.grid(alpha = 0.618)\n",
    "plt.legend(shadow = True, loc = 0)\n",
    "plt.hlines(0, 0, 10,color = 'k')\n",
    "plt.vlines(0, 0, 1,color = 'k')\n",
    "plt.savefig('figure.png', bbox_inches = 'tight', dpi = 300)"
   ]
  },
  {
   "cell_type": "markdown",
   "metadata": {
    "id": "9Hne0Ijp_YrR"
   },
   "source": [
    "#P06"
   ]
  },
  {
   "cell_type": "markdown",
   "metadata": {
    "id": "S0dS78f1yEtx"
   },
   "source": [
    "**Example:**\n",
    " \\begin{equation} \n",
    "\\begin{split}\n",
    " n &  = 0, 1, ..., 10 \\\\\n",
    " S(n) &   = \\sum_{i=0}^n\\frac{\\cos(i\\pi)}{i+1} \n",
    "\\end{split}\n",
    "\\end{equation}"
   ]
  },
  {
   "cell_type": "code",
   "execution_count": 7,
   "metadata": {
    "colab": {
     "base_uri": "https://localhost:8080/",
     "height": 279
    },
    "id": "0G3F2FLo_oIn",
    "outputId": "3c72467c-7de8-460f-cd24-3bbc158d1918"
   },
   "outputs": [
    {
     "data": {
      "image/png": "[encoded data removed]",
      "text/plain": [
       "<Figure size 432x288 with 1 Axes>"
      ]
     },
     "metadata": {
      "needs_background": "light"
     },
     "output_type": "display_data"
    }
   ],
   "source": [
    "def S(n):\n",
    "  return sum([np.cos(np.pi*i)/(i+1) for i in range(n+1)])\n",
    " \n",
    "n = [*range(51)]\n",
    "y = [S(_) for _ in n]\n",
    "\n",
    "plt.plot(n, y, 'x', c = '#0080ff', label = '$y=\\sum_{i=0}^n\\fract{1}{2^i}$')\n",
    "plt.xlabel('$n$')\n",
    "plt.ylabel('$\\sum$')\n",
    "plt.grid(alpha = 0.618)\n",
    "plt.legend(shadow = True, loc = 0)\n",
    "plt.hlines(0, 0, 50,color = 'k')\n",
    "plt.vlines(0, 0, 1,color = 'k')\n",
    "plt.savefig('figure.png', bbox_inches = 'tight', dpi = 300)"
   ]
  },
  {
   "cell_type": "markdown",
   "metadata": {
    "id": "z5WenokZ5XZo"
   },
   "source": [
    "**Score:** 6/10\n",
    "* Double check your `S(n)`\n",
    "* Check your labels"
   ]
  },
  {
   "cell_type": "markdown",
   "metadata": {
    "id": "QpjWqrDw_YwX"
   },
   "source": [
    "#P07"
   ]
  },
  {
   "cell_type": "markdown",
   "metadata": {
    "id": "G9P3ftdqyTPC"
   },
   "source": [
    "**Example:**\n",
    " \\begin{equation} \n",
    "\\begin{split}\n",
    " n &  = 1, ... \\\\\n",
    " a_n &   = \\left(1+\\frac{1}{n}\\right)^n \n",
    "\\end{split}\n",
    "\\end{equation}"
   ]
  },
  {
   "cell_type": "code",
   "execution_count": 8,
   "metadata": {
    "colab": {
     "base_uri": "https://localhost:8080/",
     "height": 279
    },
    "id": "bqPYgSqr_pFo",
    "outputId": "489a32ce-759a-4221-9d3c-adc9fe42b540"
   },
   "outputs": [
    {
     "data": {
      "image/png": "[encoded data removed]",
      "text/plain": [
       "<Figure size 432x288 with 1 Axes>"
      ]
     },
     "metadata": {
      "needs_background": "light"
     },
     "output_type": "display_data"
    }
   ],
   "source": [
    "def a(n):\n",
    "  return (1+1/n)**n\n",
    " \n",
    "n = [*range(1,26)]\n",
    "y = [a(_) for _ in n]\n",
    "\n",
    "plt.plot(n, y, '.', c = '#7f1e38', label = '$y=(1+1/n)^n$')\n",
    "plt.xlabel('$n$')\n",
    "plt.ylabel('$a_n$')\n",
    "plt.grid(alpha = 0.618)\n",
    "plt.legend(shadow = True, loc = 2)\n",
    "plt.hlines(0, 0, 26,color = 'k')\n",
    "plt.vlines(0, 0, 3,color = 'k')\n",
    "plt.savefig('figure.png', bbox_inches = 'tight', dpi = 300)"
   ]
  },
  {
   "cell_type": "markdown",
   "metadata": {
    "id": "dJOOyNDU_Y0p"
   },
   "source": [
    "#P08"
   ]
  },
  {
   "cell_type": "markdown",
   "metadata": {
    "id": "HYltga9QzUXS"
   },
   "source": [
    "**Example:**\n",
    " \\begin{equation} \n",
    "\\begin{split}\n",
    " \\pi & = 4 \\left(1-\\frac{1}{3}+\\frac{1}{7}-\\frac{1}{7}+...\\right)\n",
    "\\end{split}\n",
    "\\end{equation}"
   ]
  },
  {
   "cell_type": "code",
   "execution_count": 9,
   "metadata": {
    "colab": {
     "base_uri": "https://localhost:8080/",
     "height": 279
    },
    "id": "4byaYlt1_qJx",
    "outputId": "7505c6ba-93e3-4d1b-9eb3-35ab2e8d69dd"
   },
   "outputs": [
    {
     "data": {
      "image/png": "[encoded data removed]",
      "text/plain": [
       "<Figure size 432x288 with 1 Axes>"
      ]
     },
     "metadata": {
      "needs_background": "light"
     },
     "output_type": "display_data"
    }
   ],
   "source": [
    "def pi(n):\n",
    "  return sum([4*(-1)**n/(2*n+1) for n in range(n)])\n",
    " \n",
    "n = [*range(1, 51)]\n",
    "y = [pi(_) for _ in n]\n",
    "\n",
    "plt.plot(n, y, '.', c = '#7f1e38', label = '$\\pi=\\sum$')\n",
    "plt.xlabel('$n$')\n",
    "plt.ylabel('$\\pi_n$')\n",
    "plt.grid(alpha = 0.618)\n",
    "plt.legend(shadow = True, loc = 1)\n",
    "plt.hlines(0, 0, 50,color = 'k')\n",
    "plt.vlines(0, 0, 4,color = 'k')\n",
    "plt.savefig('figure.png', bbox_inches = 'tight', dpi = 300)"
   ]
  },
  {
   "cell_type": "markdown",
   "metadata": {
    "id": "yKlIuHWo5iUL"
   },
   "source": [
    "**Score:** 7/10\n",
    "* Check your $\\LaTeX$\n",
    "* How can you extend `hlines` and `vlines` to cover the window domain?"
   ]
  },
  {
   "cell_type": "markdown",
   "metadata": {
    "id": "I8Ot-xPu_Y6t"
   },
   "source": [
    "#P09"
   ]
  },
  {
   "cell_type": "code",
   "execution_count": 10,
   "metadata": {
    "colab": {
     "base_uri": "https://localhost:8080/",
     "height": 279
    },
    "id": "sgJufoRv_qv2",
    "outputId": "2e0e2cce-68a1-4e87-eab8-988b727b079f"
   },
   "outputs": [
    {
     "data": {
      "image/png": "[encoded data removed]",
      "text/plain": [
       "<Figure size 432x288 with 1 Axes>"
      ]
     },
     "metadata": {
      "needs_background": "light"
     },
     "output_type": "display_data"
    }
   ],
   "source": [
    "n = np.linspace(0, 2*np.pi)\n",
    "x = np.cos(n)\n",
    "y = np.sin(n)\n",
    "\n",
    "plt.plot(x,y,'-', c = '#ff0000', label = '$y=\\pm \\sqrt{1-x^2}$')\n",
    "plt.xlabel('$x$')\n",
    "plt.ylabel('$y$')\n",
    "plt.grid(alpha = 0.618)\n",
    "plt.legend(shadow = True, loc = 1)\n",
    "plt.axis('equal')\n",
    "plt.savefig('figure.png', bbox_inches = 'tight', dpi = 300)"
   ]
  },
  {
   "cell_type": "markdown",
   "metadata": {
    "id": "UyKXgAXWBKBt"
   },
   "source": [
    "- This method revolves around the graphs of $\\cos(\\theta)$ and $\\sin(\\theta)$ as both of their graphs form a circle if added, while $x^2+y^2=1$ takes in two variables as compared to one from  $\\cos(\\theta)+\\sin(\\theta)$, all while keeping the radious at a constant of 1."
   ]
  },
  {
   "cell_type": "markdown",
   "metadata": {
    "id": "pqJlzP6r5tqp"
   },
   "source": [
    "**Score:** 9/20\n",
    "* Part 1\n",
    " * Solve the equation for $y$ and plot\n",
    "\n",
    "* Part 2\n",
    " * Very nice plot but needs a $y$-axis label"
   ]
  }
 ],
 "metadata": {
  "colab": {
   "collapsed_sections": [],
   "name": "M340_HW04_Pass2_Andrick_Mercado.ipynb",
   "provenance": []
  },
  "kernelspec": {
   "display_name": "Python 3",
   "language": "python",
   "name": "python3"
  },
  "language_info": {
   "codemirror_mode": {
    "name": "ipython",
    "version": 3
   },
   "file_extension": ".py",
   "mimetype": "text/x-python",
   "name": "python",
   "nbconvert_exporter": "python",
   "pygments_lexer": "ipython3",
   "version": "3.8.5"
  }
 },
 "nbformat": 4,
 "nbformat_minor": 1
}
